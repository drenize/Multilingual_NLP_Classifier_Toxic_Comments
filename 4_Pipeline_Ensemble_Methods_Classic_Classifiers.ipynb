{
 "cells": [
  {
   "cell_type": "markdown",
   "metadata": {},
   "source": [
    "# Build a Pipeline with Ensemble Methods "
   ]
  },
  {
   "cell_type": "code",
   "execution_count": 2,
   "metadata": {},
   "outputs": [
    {
     "name": "stderr",
     "output_type": "stream",
     "text": [
      "[nltk_data] Downloading package stopwords to\n",
      "[nltk_data]     C:\\Users\\drena\\AppData\\Roaming\\nltk_data...\n",
      "[nltk_data]   Package stopwords is already up-to-date!\n"
     ]
    }
   ],
   "source": [
    "#workflow and statistics\n",
    "import pandas as pd\n",
    "import numpy as np\n",
    "import matplotlib as matplotlib\n",
    "import matplotlib.pyplot as plt\n",
    "\n",
    "#for showing missing values\n",
    "import missingno as msno\n",
    "\n",
    "#visualisation\n",
    "import seaborn as sns\n",
    "\n",
    "#natural language processing toolkit\n",
    "import nltk\n",
    "import string\n",
    "from nltk.corpus import stopwords  # removes useless words\n",
    "from nltk.stem.lancaster import LancasterStemmer  #converts the words to base form; aggressive\n",
    "from nltk.stem import porter\n",
    "from nltk.stem.util import suffix_replace, prefix_replace\n",
    "from nltk.stem.api import StemmerI\n",
    "from nltk.stem import SnowballStemmer\n",
    "from nltk.corpus import stopwords\n",
    "nltk.download('stopwords')\n",
    "\n",
    "#accessing google cloud storage\n",
    "#from google.cloud import storage\n",
    "#from io import BytesIO\n",
    "#client = storage.Client()\n",
    "#bucket = \"bilderkennung_nf_2020\"\n",
    "\n",
    "#import classification models\n",
    "from sklearn.model_selection import train_test_split\n",
    "from xgboost import XGBClassifier\n",
    "from sklearn.ensemble import AdaBoostClassifier\n",
    "from sklearn.ensemble import RandomForestClassifier\n",
    "\n",
    "\n",
    "#build pipeline\n",
    "import re\n",
    "from sklearn.pipeline import Pipeline, FeatureUnion\n",
    "from sklearn.feature_extraction.text import TfidfVectorizer\n",
    "from sklearn.preprocessing import StandardScaler\n",
    "from sklearn.decomposition import TruncatedSVD\n",
    "\n",
    "#evaluation metrics\n",
    "from sklearn import metrics\n",
    "from sklearn.metrics import classification_report,confusion_matrix\n",
    "from sklearn.metrics import accuracy_score, f1_score, confusion_matrix, recall_score\n",
    "from sklearn.model_selection import cross_val_predict, cross_val_score, cross_validate\n",
    "from sklearn.metrics import roc_curve, confusion_matrix, accuracy_score, recall_score, precision_score\n",
    "\n",
    "# Grid search cross validation\n",
    "from sklearn.model_selection import GridSearchCV\n",
    "from sklearn.model_selection import RandomizedSearchCV\n",
    "from sklearn.model_selection import StratifiedKFold\n",
    "\n",
    "from datetime import datetime\n",
    "\n",
    "\n",
    "# save model\n",
    "import pickle\n"
   ]
  },
  {
   "cell_type": "code",
   "execution_count": 3,
   "metadata": {},
   "outputs": [],
   "source": [
    "train = pd.read_csv('data/jigsaw-toxic-comment-train.csv')\n",
    "valid = pd.read_csv('data/validation.csv')"
   ]
  },
  {
   "cell_type": "code",
   "execution_count": 9,
   "metadata": {},
   "outputs": [
    {
     "data": {
      "text/plain": [
       "(223549, 8)"
      ]
     },
     "execution_count": 9,
     "metadata": {},
     "output_type": "execute_result"
    }
   ],
   "source": [
    "train.shape"
   ]
  },
  {
   "cell_type": "code",
   "execution_count": 10,
   "metadata": {},
   "outputs": [],
   "source": [
    "data_ = {'toxic':[11.4], 'non-toxic':[88.9]}"
   ]
  },
  {
   "cell_type": "code",
   "execution_count": 11,
   "metadata": {},
   "outputs": [
    {
     "data": {
      "text/html": [
       "<div>\n",
       "<style scoped>\n",
       "    .dataframe tbody tr th:only-of-type {\n",
       "        vertical-align: middle;\n",
       "    }\n",
       "\n",
       "    .dataframe tbody tr th {\n",
       "        vertical-align: top;\n",
       "    }\n",
       "\n",
       "    .dataframe thead th {\n",
       "        text-align: right;\n",
       "    }\n",
       "</style>\n",
       "<table border=\"1\" class=\"dataframe\">\n",
       "  <thead>\n",
       "    <tr style=\"text-align: right;\">\n",
       "      <th></th>\n",
       "      <th>0</th>\n",
       "    </tr>\n",
       "  </thead>\n",
       "  <tbody>\n",
       "    <tr>\n",
       "      <th>toxic</th>\n",
       "      <td>11.4</td>\n",
       "    </tr>\n",
       "    <tr>\n",
       "      <th>non-toxic</th>\n",
       "      <td>88.9</td>\n",
       "    </tr>\n",
       "  </tbody>\n",
       "</table>\n",
       "</div>"
      ],
      "text/plain": [
       "              0\n",
       "toxic      11.4\n",
       "non-toxic  88.9"
      ]
     },
     "execution_count": 11,
     "metadata": {},
     "output_type": "execute_result"
    }
   ],
   "source": [
    "rel_dist = pd.DataFrame.from_dict(data_)\n",
    "rel_dist.transpose()"
   ]
  },
  {
   "cell_type": "code",
   "execution_count": 12,
   "metadata": {},
   "outputs": [
    {
     "data": {
      "text/plain": [
       "<Figure size 720x432 with 0 Axes>"
      ]
     },
     "metadata": {},
     "output_type": "display_data"
    },
    {
     "data": {
      "image/png": "[encoded data removed]",
      "text/plain": [
       "<Figure size 432x288 with 1 Axes>"
      ]
     },
     "metadata": {
      "needs_background": "light"
     },
     "output_type": "display_data"
    }
   ],
   "source": [
    "import matplotlib.ticker as mtick\n",
    "\n",
    "plt.figure(1,figsize=(10,6))\n",
    "ax = rel_dist.plot(kind='bar', colormap='Pastel2')\n",
    "ax.yaxis.set_major_formatter(mtick.PercentFormatter())\n",
    "plt.title(\"Occurences of toxic vs non-toxic comments\",fontsize=20)\n",
    "#plt.ylabel('number of Occurrences', fontsize=15,labelpad=20)\n",
    "plt.xlabel('comments', fontsize=15,labelpad=20)\n",
    "plt.show()"
   ]
  },
  {
   "cell_type": "markdown",
   "metadata": {},
   "source": [
    "**Clean Data**"
   ]
  },
  {
   "cell_type": "code",
   "execution_count": 13,
   "metadata": {},
   "outputs": [],
   "source": [
    "def remove_punctuation(text):\n",
    "    '''a function for removing punctuation'''\n",
    "    import string\n",
    "    translator = str.maketrans('', '', string.punctuation)\n",
    "    return text.translate(translator)\n",
    "train['comment_text'] = train['comment_text'].apply(remove_punctuation)\n",
    "valid['comment_text'] = valid['comment_text'].apply(remove_punctuation)"
   ]
  },
  {
   "cell_type": "code",
   "execution_count": 14,
   "metadata": {},
   "outputs": [],
   "source": [
    "sw=stopwords.words('english')\n",
    "def removesw(text):\n",
    "    '''a function for removing the stopword'''\n",
    "    # removing the stop words and lowercasing the selected words\n",
    "    text = [word.lower() for word in text.split() if word.lower() not in sw]\n",
    "    # joining the list of words with space separator\n",
    "    return \" \".join(text)\n",
    "train['comment_text'] = train['comment_text'].apply(removesw)\n",
    "valid['comment_text'] = valid['comment_text'].apply(removesw)"
   ]
  },
  {
   "cell_type": "code",
   "execution_count": 15,
   "metadata": {},
   "outputs": [],
   "source": [
    "stemmer = SnowballStemmer(\"english\")\n",
    "\n",
    "def stemming(text):    \n",
    "    '''a function which stems each word in the given text'''\n",
    "    text = [stemmer.stem(word) for word in text.split()]\n",
    "    return \" \".join(text) \n",
    "train['comment_text'] = train['comment_text'].apply(stemming)\n",
    "valid['comment_text'] = valid['comment_text'].apply(stemming)"
   ]
  },
  {
   "cell_type": "markdown",
   "metadata": {},
   "source": [
    "**Train Test Split**"
   ]
  },
  {
   "cell_type": "code",
   "execution_count": 16,
   "metadata": {},
   "outputs": [],
   "source": [
    "X = train[['comment_text']]\n",
    "Y = train['toxic']\n",
    "\n",
    "from sklearn.model_selection import train_test_split\n",
    "\n",
    "X_train, X_test, y_train, y_test = train_test_split(X, Y, test_size=0.25)"
   ]
  },
  {
   "cell_type": "markdown",
   "metadata": {},
   "source": [
    "**Preprocess Data**"
   ]
  },
  {
   "cell_type": "code",
   "execution_count": 17,
   "metadata": {},
   "outputs": [],
   "source": [
    "from sklearn.base import BaseEstimator, TransformerMixin\n",
    "\n",
    "class TextSelector(BaseEstimator, TransformerMixin):\n",
    "    def __init__(self, field):\n",
    "        self.field = field\n",
    "    def fit(self, X, y=None):\n",
    "        return self\n",
    "    def transform(self, X):\n",
    "        return X[self.field]\n",
    "    \n",
    "#class NumberSelector(BaseEstimator, TransformerMixin):\n",
    "#    def __init__(self, field):\n",
    "#        self.field = field\n",
    "#    def fit(self, X, y=None):\n",
    "#        return self\n",
    "#    def transform(self, X):\n",
    "#        return X[[self.field]]"
   ]
  },
  {
   "cell_type": "code",
   "execution_count": 18,
   "metadata": {},
   "outputs": [],
   "source": [
    "import nltk\n",
    "\n",
    "def Tokenizer(str_input):\n",
    "    words = re.sub(r\"[^A-Za-z0-9\\-]\", \" \", str_input).lower().split()\n",
    "    porter_stemmer=nltk.PorterStemmer()\n",
    "    words = [porter_stemmer.stem(word) for word in words]\n",
    "    return words"
   ]
  },
  {
   "cell_type": "markdown",
   "metadata": {},
   "source": [
    "After vectorizing the text, if we use the XGBoost classifier we need to add the TruncatedSVD transformer to the pipeline. Its role is to perform linear dimensionality reduction by means of truncated singular value decomposition (SVD). It works on tf-idf matrices generated by sklearn doing what’s called latent semantic analysis (LSA)."
   ]
  },
  {
   "cell_type": "markdown",
   "metadata": {},
   "source": [
    "# Pipeline"
   ]
  },
  {
   "cell_type": "markdown",
   "metadata": {},
   "source": [
    "The reason we use a FeatureUnion is to allow us to combine different Pipelines that run on different features of the training data."
   ]
  },
  {
   "cell_type": "code",
   "execution_count": 23,
   "metadata": {
    "scrolled": false
   },
   "outputs": [
    {
     "name": "stdout",
     "output_type": "stream",
     "text": [
      "<class 'xgboost.sklearn.XGBClassifier'>\n",
      "Confusion Matrix :\n",
      "[[149668   2003]\n",
      " [  7583   8407]]\n",
      "Accuracy Score : 0.942825105421058\n",
      "Report : \n",
      "              precision    recall  f1-score   support\n",
      "\n",
      "           0       0.95      0.99      0.97    151671\n",
      "           1       0.81      0.53      0.64     15990\n",
      "\n",
      "    accuracy                           0.94    167661\n",
      "   macro avg       0.88      0.76      0.80    167661\n",
      "weighted avg       0.94      0.94      0.94    167661\n",
      "\n",
      "<class 'sklearn.ensemble._weight_boosting.AdaBoostClassifier'>\n",
      "Confusion Matrix :\n",
      "[[149425   2246]\n",
      " [  8151   7839]]\n",
      "Accuracy Score : 0.9379879638079219\n",
      "Report : \n",
      "              precision    recall  f1-score   support\n",
      "\n",
      "           0       0.95      0.99      0.97    151671\n",
      "           1       0.78      0.49      0.60     15990\n",
      "\n",
      "    accuracy                           0.94    167661\n",
      "   macro avg       0.86      0.74      0.78    167661\n",
      "weighted avg       0.93      0.94      0.93    167661\n",
      "\n",
      "<class 'sklearn.ensemble._forest.RandomForestClassifier'>\n",
      "Confusion Matrix :\n",
      "[[150625   1046]\n",
      " [  9018   6972]]\n",
      "Accuracy Score : 0.939974114433291\n",
      "Report : \n",
      "              precision    recall  f1-score   support\n",
      "\n",
      "           0       0.94      0.99      0.97    151671\n",
      "           1       0.87      0.44      0.58     15990\n",
      "\n",
      "    accuracy                           0.94    167661\n",
      "   macro avg       0.91      0.71      0.77    167661\n",
      "weighted avg       0.94      0.94      0.93    167661\n",
      "\n"
     ]
    }
   ],
   "source": [
    "models = [\n",
    "    XGBClassifier, AdaBoostClassifier, RandomForestClassifier\n",
    "]\n",
    "for model in models:\n",
    "    print(str(model))\n",
    "    pipe = Pipeline([\n",
    "        (\n",
    "            'features',\n",
    "            FeatureUnion([(\n",
    "                'comment_text',\n",
    "                Pipeline([\n",
    "                    ('colext', TextSelector('comment_text')),\n",
    "                    ('tfidf',\n",
    "                     TfidfVectorizer(tokenizer=Tokenizer,\n",
    "                                     min_df=.0025,\n",
    "                                     max_df=0.25,\n",
    "                                     ngram_range=(1, 3))),\n",
    "                    ('svd', TruncatedSVD(algorithm='randomized',\n",
    "                                         n_components=300)),\n",
    "                ]))])),\n",
    "        ('clf', model()),\n",
    "    ])\n",
    "    pipe_trained = pipe.fit(X_train, y_train)\n",
    "    preds = cross_val_predict(pipe, X_train, y_train, cv=5)\n",
    "    \n",
    "    # confusion matrix and classification report\n",
    "    results = confusion_matrix(y_train, preds)\n",
    "    print('Confusion Matrix :')\n",
    "    print((results))\n",
    "    print('Accuracy Score :', accuracy_score(y_train, preds))\n",
    "    print('Report : ')\n",
    "    print(classification_report(y_train, preds))\n",
    "\n",
    "pickle.dump(pipe_trained, open('saved_models/pipe_trained_unsampled.pkl', 'wb'))    "
   ]
  },
  {
   "cell_type": "markdown",
   "metadata": {},
   "source": [
    "Build pipe with seperate preprocessor:"
   ]
  },
  {
   "cell_type": "code",
   "execution_count": 19,
   "metadata": {},
   "outputs": [],
   "source": [
    "preprocessor = Pipeline([('features', FeatureUnion([(\n",
    "                'comment_text', Pipeline([\n",
    "                    ('colext', TextSelector('comment_text')),\n",
    "                    ('tfidf',\n",
    "                     TfidfVectorizer(tokenizer=Tokenizer,\n",
    "                                     min_df=.0025,\n",
    "                                     max_df=0.25,\n",
    "                                     ngram_range=(1, 3))),\n",
    "                    ('svd', TruncatedSVD(algorithm='randomized',\n",
    "                                         n_components=300))]))]))])"
   ]
  },
  {
   "cell_type": "code",
   "execution_count": 20,
   "metadata": {},
   "outputs": [
    {
     "name": "stdout",
     "output_type": "stream",
     "text": [
      "<class 'xgboost.sklearn.XGBClassifier'>\n",
      "Confusion Matrix :\n",
      "[[149624   2007]\n",
      " [  7607   8423]]\n",
      "Accuracy Score : 0.9426581017648707\n",
      "Report : \n",
      "              precision    recall  f1-score   support\n",
      "\n",
      "           0       0.95      0.99      0.97    151631\n",
      "           1       0.81      0.53      0.64     16030\n",
      "\n",
      "    accuracy                           0.94    167661\n",
      "   macro avg       0.88      0.76      0.80    167661\n",
      "weighted avg       0.94      0.94      0.94    167661\n",
      "\n"
     ]
    }
   ],
   "source": [
    "models = [\n",
    "    XGBClassifier\n",
    "]\n",
    "for model in models:\n",
    "    print(str(model))\n",
    "    pipe =  Pipeline([('preprocessor', preprocessor), ('classifier', model())] )\n",
    "  \n",
    "    pipe_train = pipe.fit(X_train, y_train)\n",
    "    preds = cross_val_predict(pipe, X_train, y_train, cv=5)\n",
    "                \n",
    "    # confusion matrix and classification report\n",
    "    results = confusion_matrix(y_train, preds)\n",
    "    print('Confusion Matrix :')\n",
    "    print((results))\n",
    "    print('Accuracy Score :', accuracy_score(y_train, preds))\n",
    "    print('Report : ')\n",
    "    print(classification_report(y_train, preds))\n",
    "    \n",
    "    pickle.dump(pipe_train, open('saved_models/xgb_pipe.pkl', 'wb'))    "
   ]
  },
  {
   "cell_type": "markdown",
   "metadata": {},
   "source": [
    "# RandomSearch"
   ]
  },
  {
   "cell_type": "code",
   "execution_count": 21,
   "metadata": {},
   "outputs": [],
   "source": [
    "#timer frunction\n",
    "\n",
    "\n",
    "#def timer(start_time=None):\n",
    "#    if not start_time:\n",
    "#        start_time = datetime.now()\n",
    "#        return start_time\n",
    "#    elif start_time:\n",
    "#        thour, temp_sec = divmod((datetime.now() - start_time).total_seconds(), 3600)\n",
    "#        tmin, tsec = divmod(temp_sec, 60)\n",
    "#        print('\\n Time taken: %i hours %i minutes and %s seconds.' % (thour, tmin, round(tsec, 2)))"
   ]
  },
  {
   "cell_type": "code",
   "execution_count": 22,
   "metadata": {},
   "outputs": [],
   "source": [
    "xgb_pipe = Pipeline([('preprocessor', preprocessor), ('classifier', XGBClassifier())])"
   ]
  },
  {
   "cell_type": "code",
   "execution_count": 23,
   "metadata": {},
   "outputs": [],
   "source": [
    "parameters_xgb = {\n",
    "    'classifier__max_depth': [2,3],\n",
    "    'classifier__n_estimators': [100,250,500,750,1000],\n",
    "    'classifier__learning_rate': [0.1, 0.5, 1, 0.01],\n",
    "}"
   ]
  },
  {
   "cell_type": "code",
   "execution_count": 24,
   "metadata": {},
   "outputs": [],
   "source": [
    "# RandomizedSearch CV\n",
    "folds = 3\n",
    "param_comb = 5\n",
    "\n",
    "random_search = RandomizedSearchCV(xgb_pipe, \n",
    "                                   param_distributions=parameters_xgb, \n",
    "                                   n_iter=param_comb, \n",
    "                                   scoring='recall', \n",
    "                                   n_jobs=-1, \n",
    "                                   cv=5, \n",
    "                                   verbose=3, \n",
    "                                   random_state=1001 )"
   ]
  },
  {
   "cell_type": "code",
   "execution_count": 25,
   "metadata": {
    "scrolled": true
   },
   "outputs": [
    {
     "name": "stdout",
     "output_type": "stream",
     "text": [
      "Fitting 5 folds for each of 5 candidates, totalling 25 fits\n"
     ]
    },
    {
     "name": "stderr",
     "output_type": "stream",
     "text": [
      "[Parallel(n_jobs=-1)]: Using backend LokyBackend with 4 concurrent workers.\n",
      "[Parallel(n_jobs=-1)]: Done  25 out of  25 | elapsed: 359.9min finished\n"
     ]
    }
   ],
   "source": [
    "# Here we go\n",
    "#start_time = timer(None) # timing starts from this point for \"start_time\" variable\n",
    "RandomSearchXGB = random_search.fit(X_train, y_train)\n",
    "#timer(start_time) # timing ends here for \"start_time\" variable"
   ]
  },
  {
   "cell_type": "code",
   "execution_count": 26,
   "metadata": {
    "scrolled": false
   },
   "outputs": [
    {
     "name": "stdout",
     "output_type": "stream",
     "text": [
      "{'mean_fit_time': array([5895.07472243, 1023.69067044, 2177.80043368, 2271.85457268,\n",
      "       4681.87763872]), 'std_fit_time': array([  98.53900892,    4.81472046,   83.0121392 ,  138.89122108,\n",
      "       1321.30936692]), 'mean_score_time': array([59.87784781, 56.37920485, 58.92800698, 76.23555655, 48.00360699]), 'std_score_time': array([ 0.99047718,  0.7408452 ,  2.3461705 , 21.03955181, 11.17195148]), 'param_classifier__n_estimators': masked_array(data=[750, 100, 250, 250, 750],\n",
      "             mask=[False, False, False, False, False],\n",
      "       fill_value='?',\n",
      "            dtype=object), 'param_classifier__max_depth': masked_array(data=[3, 3, 3, 3, 2],\n",
      "             mask=[False, False, False, False, False],\n",
      "       fill_value='?',\n",
      "            dtype=object), 'param_classifier__learning_rate': masked_array(data=[0.01, 0.5, 0.5, 1, 0.1],\n",
      "             mask=[False, False, False, False, False],\n",
      "       fill_value='?',\n",
      "            dtype=object), 'params': [{'classifier__n_estimators': 750, 'classifier__max_depth': 3, 'classifier__learning_rate': 0.01}, {'classifier__n_estimators': 100, 'classifier__max_depth': 3, 'classifier__learning_rate': 0.5}, {'classifier__n_estimators': 250, 'classifier__max_depth': 3, 'classifier__learning_rate': 0.5}, {'classifier__n_estimators': 250, 'classifier__max_depth': 3, 'classifier__learning_rate': 1}, {'classifier__n_estimators': 750, 'classifier__max_depth': 2, 'classifier__learning_rate': 0.1}], 'split0_test_score': array([0.44946974, 0.52121023, 0.53275109, 0.54335621, 0.50904554]), 'split1_test_score': array([0.44510293, 0.52744853, 0.53368684, 0.54148472, 0.51341235]), 'split2_test_score': array([0.45820337, 0.52807236, 0.54803493, 0.55520898, 0.51715533]), 'split3_test_score': array([0.4444791 , 0.52900811, 0.53243918, 0.54086089, 0.51965066]), 'split4_test_score': array([0.44946974, 0.51278852, 0.52744853, 0.5308796 , 0.50155958]), 'mean_test_score': array([0.44934498, 0.52370555, 0.53487211, 0.54235808, 0.51216469]), 'std_test_score': array([0.00490253, 0.00610908, 0.00693098, 0.0077576 , 0.00639844]), 'rank_test_score': array([5, 3, 2, 1, 4])}\n",
      "\n",
      " Best estimator:\n",
      "Pipeline(steps=[('preprocessor',\n",
      "                 Pipeline(steps=[('features',\n",
      "                                  FeatureUnion(transformer_list=[('comment_text',\n",
      "                                                                  Pipeline(steps=[('colext',\n",
      "                                                                                   TextSelector(field='comment_text')),\n",
      "                                                                                  ('tfidf',\n",
      "                                                                                   TfidfVectorizer(max_df=0.25,\n",
      "                                                                                                   min_df=0.0025,\n",
      "                                                                                                   ngram_range=(1,\n",
      "                                                                                                                3),\n",
      "                                                                                                   tokenizer=<function Tokenizer at 0x000001A8C0EDB700>)),\n",
      "                                                                                  ('svd',\n",
      "                                                                                   TruncatedSVD(n_components=300))]))]))])),\n",
      "                ('classifier...\n",
      "                               colsample_bytree=1, gamma=0, gpu_id=-1,\n",
      "                               importance_type='gain',\n",
      "                               interaction_constraints='', learning_rate=1,\n",
      "                               max_delta_step=0, max_depth=3,\n",
      "                               min_child_weight=1, missing=nan,\n",
      "                               monotone_constraints='()', n_estimators=250,\n",
      "                               n_jobs=0, num_parallel_tree=1, random_state=0,\n",
      "                               reg_alpha=0, reg_lambda=1, scale_pos_weight=1,\n",
      "                               subsample=1, tree_method='exact',\n",
      "                               validate_parameters=1, verbosity=None))])\n",
      "\n",
      " Best normalized gini score for 3-fold search with 5 parameter combinations:\n",
      "0.08471615720524017\n",
      "\n",
      " Best hyperparameters:\n",
      "{'classifier__n_estimators': 250, 'classifier__max_depth': 3, 'classifier__learning_rate': 1}\n"
     ]
    }
   ],
   "source": [
    "print(random_search.cv_results_)\n",
    "print('\\n Best estimator:')\n",
    "print(random_search.best_estimator_)\n",
    "print('\\n Best normalized gini score for %d-fold search with %d parameter combinations:' % (folds, param_comb))\n",
    "print(random_search.best_score_ * 2 - 1)\n",
    "print('\\n Best hyperparameters:')\n",
    "print(random_search.best_params_)\n",
    "results = pd.DataFrame(random_search.cv_results_)\n",
    "results.to_csv('xgb-random-grid-search-results-01.csv', index=False)"
   ]
  },
  {
   "cell_type": "code",
   "execution_count": 27,
   "metadata": {},
   "outputs": [
    {
     "name": "stdout",
     "output_type": "stream",
     "text": [
      "Confusion Matrix :\n",
      "   mean_fit_time  std_fit_time  mean_score_time  std_score_time  \\\n",
      "0    5895.074722     98.539009        59.877848        0.990477   \n",
      "1    1023.690670      4.814720        56.379205        0.740845   \n",
      "2    2177.800434     83.012139        58.928007        2.346170   \n",
      "3    2271.854573    138.891221        76.235557       21.039552   \n",
      "4    4681.877639   1321.309367        48.003607       11.171951   \n",
      "\n",
      "  param_classifier__n_estimators param_classifier__max_depth  \\\n",
      "0                            750                           3   \n",
      "1                            100                           3   \n",
      "2                            250                           3   \n",
      "3                            250                           3   \n",
      "4                            750                           2   \n",
      "\n",
      "  param_classifier__learning_rate  \\\n",
      "0                            0.01   \n",
      "1                             0.5   \n",
      "2                             0.5   \n",
      "3                               1   \n",
      "4                             0.1   \n",
      "\n",
      "                                              params  split0_test_score  \\\n",
      "0  {'classifier__n_estimators': 750, 'classifier_...           0.449470   \n",
      "1  {'classifier__n_estimators': 100, 'classifier_...           0.521210   \n",
      "2  {'classifier__n_estimators': 250, 'classifier_...           0.532751   \n",
      "3  {'classifier__n_estimators': 250, 'classifier_...           0.543356   \n",
      "4  {'classifier__n_estimators': 750, 'classifier_...           0.509046   \n",
      "\n",
      "   split1_test_score  split2_test_score  split3_test_score  split4_test_score  \\\n",
      "0           0.445103           0.458203           0.444479           0.449470   \n",
      "1           0.527449           0.528072           0.529008           0.512789   \n",
      "2           0.533687           0.548035           0.532439           0.527449   \n",
      "3           0.541485           0.555209           0.540861           0.530880   \n",
      "4           0.513412           0.517155           0.519651           0.501560   \n",
      "\n",
      "   mean_test_score  std_test_score  rank_test_score  \n",
      "0         0.449345        0.004903                5  \n",
      "1         0.523706        0.006109                3  \n",
      "2         0.534872        0.006931                2  \n",
      "3         0.542358        0.007758                1  \n",
      "4         0.512165        0.006398                4  \n",
      "Accuracy Score : 0.9426581017648707\n",
      "Report : \n",
      "              precision    recall  f1-score   support\n",
      "\n",
      "           0       0.95      0.99      0.97    151631\n",
      "           1       0.81      0.53      0.64     16030\n",
      "\n",
      "    accuracy                           0.94    167661\n",
      "   macro avg       0.88      0.76      0.80    167661\n",
      "weighted avg       0.94      0.94      0.94    167661\n",
      "\n"
     ]
    }
   ],
   "source": [
    "# confusion matrix and classification report\n",
    "print('Confusion Matrix :')\n",
    "print((results))\n",
    "print('Accuracy Score :', accuracy_score(y_train, preds))\n",
    "print('Report : ')\n",
    "print(classification_report(y_train, preds))"
   ]
  },
  {
   "cell_type": "code",
   "execution_count": 28,
   "metadata": {},
   "outputs": [],
   "source": [
    "#save model\n",
    "pickle.dump(RandomSearchXGB.best_estimator_['classifier'], open('saved_models/xgb_best_model_.pkl', 'wb'))\n"
   ]
  },
  {
   "cell_type": "code",
   "execution_count": 29,
   "metadata": {},
   "outputs": [],
   "source": [
    "xgb_best = pickle.load(open('saved_models/xgb_best_model_.pkl', 'rb'))"
   ]
  },
  {
   "cell_type": "markdown",
   "metadata": {},
   "source": [
    "**Testing on Validation Data**"
   ]
  },
  {
   "cell_type": "code",
   "execution_count": 31,
   "metadata": {},
   "outputs": [],
   "source": [
    "preprocessor.fit(X_train)\n",
    "X_test_preprocessed = preprocessor.transform(X_test)"
   ]
  },
  {
   "cell_type": "code",
   "execution_count": 32,
   "metadata": {},
   "outputs": [],
   "source": [
    "y_test_predicted_xgb = xgb_best.predict(X_test_preprocessed)"
   ]
  },
  {
   "cell_type": "code",
   "execution_count": 34,
   "metadata": {},
   "outputs": [
    {
     "name": "stdout",
     "output_type": "stream",
     "text": [
      "Confusion Matrix :\n",
      "[[49052  1482]\n",
      " [ 2619  2735]]\n",
      "Accuracy Score : 0.9266210993415402\n",
      "Report : \n",
      "              precision    recall  f1-score   support\n",
      "\n",
      "           0       0.95      0.97      0.96     50534\n",
      "           1       0.65      0.51      0.57      5354\n",
      "\n",
      "    accuracy                           0.93     55888\n",
      "   macro avg       0.80      0.74      0.77     55888\n",
      "weighted avg       0.92      0.93      0.92     55888\n",
      "\n"
     ]
    }
   ],
   "source": [
    "results = confusion_matrix(y_test, y_test_predicted_xgb)\n",
    "print('Confusion Matrix :')\n",
    "print((results))\n",
    "print('Accuracy Score :', accuracy_score(y_test, y_test_predicted_xgb))\n",
    "print('Report : ')\n",
    "print(classification_report(y_test, y_test_predicted_xgb))"
   ]
  }
 ],
 "metadata": {
  "hide_input": false,
  "kernelspec": {
   "display_name": "Python 3",
   "language": "python",
   "name": "python3"
  },
  "language_info": {
   "codemirror_mode": {
    "name": "ipython",
    "version": 3
   },
   "file_extension": ".py",
   "mimetype": "text/x-python",
   "name": "python",
   "nbconvert_exporter": "python",
   "pygments_lexer": "ipython3",
   "version": "3.8.3"
  },
  "toc": {
   "base_numbering": 1,
   "nav_menu": {},
   "number_sections": true,
   "sideBar": true,
   "skip_h1_title": false,
   "title_cell": "Table of Contents",
   "title_sidebar": "Contents",
   "toc_cell": false,
   "toc_position": {},
   "toc_section_display": true,
   "toc_window_display": true
  }
 },
 "nbformat": 4,
 "nbformat_minor": 4
}
