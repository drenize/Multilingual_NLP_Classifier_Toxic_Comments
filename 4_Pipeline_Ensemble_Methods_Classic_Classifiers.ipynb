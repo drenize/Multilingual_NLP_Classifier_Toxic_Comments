{
 "cells": [
  {
   "cell_type": "markdown",
   "metadata": {},
   "source": [
    "# Build a Pipeline with Ensemble Methods "
   ]
  },
  {
   "cell_type": "code",
   "execution_count": 37,
   "metadata": {},
   "outputs": [
    {
     "name": "stderr",
     "output_type": "stream",
     "text": [
      "[nltk_data] Downloading package stopwords to\n",
      "[nltk_data]     C:\\Users\\drena\\AppData\\Roaming\\nltk_data...\n",
      "[nltk_data]   Package stopwords is already up-to-date!\n"
     ]
    }
   ],
   "source": [
    "#workflow and statistics\n",
    "import pandas as pd\n",
    "import numpy as np\n",
    "import matplotlib as matplotlib\n",
    "import matplotlib.pyplot as plt\n",
    "\n",
    "#for showing missing values\n",
    "import missingno as msno\n",
    "\n",
    "#visualisation\n",
    "import seaborn as sns\n",
    "\n",
    "#natural language processing toolkit\n",
    "import nltk\n",
    "import string\n",
    "from nltk.corpus import stopwords  # removes useless words\n",
    "from nltk.stem.lancaster import LancasterStemmer  #converts the words to base form; aggressive\n",
    "from nltk.stem import porter\n",
    "from nltk.stem.util import suffix_replace, prefix_replace\n",
    "from nltk.stem.api import StemmerI\n",
    "from nltk.stem import SnowballStemmer\n",
    "from nltk.corpus import stopwords\n",
    "nltk.download('stopwords')\n",
    "\n",
    "#accessing google cloud storage\n",
    "#from google.cloud import storage\n",
    "#from io import BytesIO\n",
    "#client = storage.Client()\n",
    "#bucket = \"bilderkennung_nf_2020\"\n",
    "\n",
    "#import classification models\n",
    "from sklearn.model_selection import train_test_split\n",
    "from xgboost import XGBClassifier\n",
    "from sklearn.ensemble import AdaBoostClassifier\n",
    "from sklearn.ensemble import RandomForestClassifier\n",
    "from sklearn.svm import SVC\n",
    "\n",
    "\n",
    "\n",
    "#build pipeline\n",
    "import re\n",
    "from sklearn.pipeline import Pipeline, FeatureUnion\n",
    "from sklearn.feature_extraction.text import TfidfVectorizer\n",
    "from sklearn.preprocessing import StandardScaler\n",
    "from sklearn.decomposition import TruncatedSVD\n",
    "\n",
    "#evaluation metrics\n",
    "from sklearn import metrics\n",
    "from sklearn.metrics import classification_report,confusion_matrix\n",
    "from sklearn.metrics import accuracy_score, f1_score, confusion_matrix, recall_score\n",
    "from sklearn.model_selection import cross_val_predict, cross_val_score, cross_validate\n",
    "from sklearn.metrics import roc_curve, confusion_matrix, accuracy_score, recall_score, precision_score\n",
    "\n",
    "# Grid search cross validation\n",
    "from sklearn.model_selection import GridSearchCV\n",
    "from sklearn.model_selection import RandomizedSearchCV\n",
    "from sklearn.model_selection import StratifiedKFold\n",
    "\n",
    "from datetime import datetime\n",
    "\n",
    "\n",
    "# save model\n",
    "import pickle\n"
   ]
  },
  {
   "cell_type": "code",
   "execution_count": 2,
   "metadata": {},
   "outputs": [],
   "source": [
    "train = pd.read_csv('data/jigsaw-toxic-comment-train.csv')"
   ]
  },
  {
   "cell_type": "code",
   "execution_count": 3,
   "metadata": {},
   "outputs": [
    {
     "data": {
      "text/plain": [
       "(223549, 8)"
      ]
     },
     "execution_count": 3,
     "metadata": {},
     "output_type": "execute_result"
    }
   ],
   "source": [
    "train.shape"
   ]
  },
  {
   "cell_type": "code",
   "execution_count": 4,
   "metadata": {},
   "outputs": [],
   "source": [
    "data_ = {'toxic':[11.4], 'non-toxic':[88.9]}"
   ]
  },
  {
   "cell_type": "code",
   "execution_count": 5,
   "metadata": {},
   "outputs": [
    {
     "data": {
      "text/html": [
       "<div>\n",
       "<style scoped>\n",
       "    .dataframe tbody tr th:only-of-type {\n",
       "        vertical-align: middle;\n",
       "    }\n",
       "\n",
       "    .dataframe tbody tr th {\n",
       "        vertical-align: top;\n",
       "    }\n",
       "\n",
       "    .dataframe thead th {\n",
       "        text-align: right;\n",
       "    }\n",
       "</style>\n",
       "<table border=\"1\" class=\"dataframe\">\n",
       "  <thead>\n",
       "    <tr style=\"text-align: right;\">\n",
       "      <th></th>\n",
       "      <th>0</th>\n",
       "    </tr>\n",
       "  </thead>\n",
       "  <tbody>\n",
       "    <tr>\n",
       "      <th>toxic</th>\n",
       "      <td>11.4</td>\n",
       "    </tr>\n",
       "    <tr>\n",
       "      <th>non-toxic</th>\n",
       "      <td>88.9</td>\n",
       "    </tr>\n",
       "  </tbody>\n",
       "</table>\n",
       "</div>"
      ],
      "text/plain": [
       "              0\n",
       "toxic      11.4\n",
       "non-toxic  88.9"
      ]
     },
     "execution_count": 5,
     "metadata": {},
     "output_type": "execute_result"
    }
   ],
   "source": [
    "rel_dist = pd.DataFrame.from_dict(data_)\n",
    "rel_dist.transpose()"
   ]
  },
  {
   "cell_type": "code",
   "execution_count": 6,
   "metadata": {},
   "outputs": [
    {
     "data": {
      "text/plain": [
       "<Figure size 720x432 with 0 Axes>"
      ]
     },
     "metadata": {},
     "output_type": "display_data"
    },
    {
     "data": {
      "image/png": "[encoded data removed]",
      "text/plain": [
       "<Figure size 432x288 with 1 Axes>"
      ]
     },
     "metadata": {
      "needs_background": "light"
     },
     "output_type": "display_data"
    }
   ],
   "source": [
    "import matplotlib.ticker as mtick\n",
    "\n",
    "plt.figure(1,figsize=(10,6))\n",
    "ax = rel_dist.plot(kind='bar', colormap='Pastel2')\n",
    "ax.yaxis.set_major_formatter(mtick.PercentFormatter())\n",
    "plt.title(\"Occurences of toxic vs non-toxic comments\",fontsize=20)\n",
    "#plt.ylabel('number of Occurrences', fontsize=15,labelpad=20)\n",
    "plt.xlabel('comments', fontsize=15,labelpad=20)\n",
    "plt.show()"
   ]
  },
  {
   "cell_type": "markdown",
   "metadata": {},
   "source": [
    "**Clean Data**"
   ]
  },
  {
   "cell_type": "code",
   "execution_count": 7,
   "metadata": {},
   "outputs": [],
   "source": [
    "def remove_punctuation(text):\n",
    "    '''a function for removing punctuation'''\n",
    "    import string\n",
    "    translator = str.maketrans('', '', string.punctuation)\n",
    "    return text.translate(translator)\n",
    "train['comment_text'] = train['comment_text'].apply(remove_punctuation)"
   ]
  },
  {
   "cell_type": "code",
   "execution_count": 8,
   "metadata": {},
   "outputs": [],
   "source": [
    "sw=stopwords.words('english')\n",
    "def removesw(text):\n",
    "    '''a function for removing the stopword'''\n",
    "    # removing the stop words and lowercasing the selected words\n",
    "    text = [word.lower() for word in text.split() if word.lower() not in sw]\n",
    "    # joining the list of words with space separator\n",
    "    return \" \".join(text)\n",
    "train['comment_text'] = train['comment_text'].apply(removesw)"
   ]
  },
  {
   "cell_type": "code",
   "execution_count": 9,
   "metadata": {},
   "outputs": [],
   "source": [
    "stemmer = SnowballStemmer(\"english\")\n",
    "\n",
    "def stemming(text):    \n",
    "    '''a function which stems each word in the given text'''\n",
    "    text = [stemmer.stem(word) for word in text.split()]\n",
    "    return \" \".join(text) \n",
    "train['comment_text'] = train['comment_text'].apply(stemming)"
   ]
  },
  {
   "cell_type": "markdown",
   "metadata": {},
   "source": [
    "**Train Test Split**"
   ]
  },
  {
   "cell_type": "code",
   "execution_count": 11,
   "metadata": {},
   "outputs": [],
   "source": [
    "X = train[['comment_text']]\n",
    "Y = train['toxic']\n",
    "\n",
    "from sklearn.model_selection import train_test_split\n",
    "\n",
    "X_train, X_test, y_train, y_test = train_test_split(X, Y, test_size=0.25)"
   ]
  },
  {
   "cell_type": "markdown",
   "metadata": {},
   "source": [
    "**Resample Imbalanced Data**"
   ]
  },
  {
   "cell_type": "code",
   "execution_count": 12,
   "metadata": {},
   "outputs": [],
   "source": [
    "from sklearn.utils import resample\n",
    "\n",
    "\n",
    "# concatenate our training data back together\n",
    "X = pd.concat([X_train, y_train], axis=1)\n",
    "\n",
    "# separate minority and majority classes\n",
    "not_toxic = X[X.toxic==0]\n",
    "toxic = X[X.toxic==1]"
   ]
  },
  {
   "cell_type": "code",
   "execution_count": null,
   "metadata": {},
   "outputs": [],
   "source": [
    "## upsample minority\n",
    "#toxic_upsampled = resample(toxic,\n",
    "#                          replace=True, # sample with replacement\n",
    "#                          n_samples=len(not_toxic), # match number in majority class\n",
    "#                          random_state=27) # reproducible results\n",
    "#\n",
    "## combine majority and upsampled minority\n",
    "#upsampled = pd.concat([not_toxic, toxic_upsampled])\n",
    "#"
   ]
  },
  {
   "cell_type": "code",
   "execution_count": 13,
   "metadata": {},
   "outputs": [],
   "source": [
    "# check new class counts\n",
    "#upsampled.toxic.value_counts()"
   ]
  },
  {
   "cell_type": "code",
   "execution_count": 14,
   "metadata": {},
   "outputs": [],
   "source": [
    "#y_train = upsampled.toxic\n",
    "#X_train = upsampled.drop('toxic', axis=1)"
   ]
  },
  {
   "cell_type": "code",
   "execution_count": 15,
   "metadata": {},
   "outputs": [],
   "source": [
    "#y_train"
   ]
  },
  {
   "cell_type": "code",
   "execution_count": 16,
   "metadata": {},
   "outputs": [],
   "source": [
    "#X_train"
   ]
  },
  {
   "cell_type": "code",
   "execution_count": 17,
   "metadata": {},
   "outputs": [],
   "source": [
    "# downsample majority\n",
    "not_toxic_downsampled = resample(not_toxic,\n",
    "                                replace = False, # sample without replacement\n",
    "                                n_samples = len(toxic), # match minority n\n",
    "                                random_state = 27) # reproducible results"
   ]
  },
  {
   "cell_type": "code",
   "execution_count": 18,
   "metadata": {},
   "outputs": [],
   "source": [
    "# combine minority and downsampled majority\n",
    "downsampled = pd.concat([not_toxic_downsampled, toxic])"
   ]
  },
  {
   "cell_type": "code",
   "execution_count": 19,
   "metadata": {},
   "outputs": [
    {
     "data": {
      "text/plain": [
       "1    16081\n",
       "0    16081\n",
       "Name: toxic, dtype: int64"
      ]
     },
     "execution_count": 19,
     "metadata": {},
     "output_type": "execute_result"
    }
   ],
   "source": [
    "# checking counts\n",
    "downsampled.toxic.value_counts()"
   ]
  },
  {
   "cell_type": "code",
   "execution_count": 24,
   "metadata": {},
   "outputs": [],
   "source": [
    "y_train = downsampled.toxic\n",
    "X_train = downsampled.drop('toxic', axis=1)"
   ]
  },
  {
   "cell_type": "markdown",
   "metadata": {},
   "source": [
    "**Preprocess Data**"
   ]
  },
  {
   "cell_type": "code",
   "execution_count": 25,
   "metadata": {},
   "outputs": [],
   "source": [
    "from sklearn.base import BaseEstimator, TransformerMixin\n",
    "\n",
    "class TextSelector(BaseEstimator, TransformerMixin):\n",
    "    def __init__(self, field):\n",
    "        self.field = field\n",
    "    def fit(self, X, y=None):\n",
    "        return self\n",
    "    def transform(self, X):\n",
    "        return X[self.field]\n",
    "    \n",
    "#class NumberSelector(BaseEstimator, TransformerMixin):\n",
    "#    def __init__(self, field):\n",
    "#        self.field = field\n",
    "#    def fit(self, X, y=None):\n",
    "#        return self\n",
    "#    def transform(self, X):\n",
    "#        return X[[self.field]]"
   ]
  },
  {
   "cell_type": "code",
   "execution_count": 26,
   "metadata": {},
   "outputs": [],
   "source": [
    "import nltk\n",
    "\n",
    "def Tokenizer(str_input):\n",
    "    words = re.sub(r\"[^A-Za-z0-9\\-]\", \" \", str_input).lower().split()\n",
    "    porter_stemmer=nltk.PorterStemmer()\n",
    "    words = [porter_stemmer.stem(word) for word in words]\n",
    "    return words"
   ]
  },
  {
   "cell_type": "markdown",
   "metadata": {},
   "source": [
    "After vectorizing the text, if we use the XGBoost classifier we need to add the TruncatedSVD transformer to the pipeline. Its role is to perform linear dimensionality reduction by means of truncated singular value decomposition (SVD). It works on tf-idf matrices generated by sklearn doing what’s called latent semantic analysis (LSA)."
   ]
  },
  {
   "cell_type": "markdown",
   "metadata": {},
   "source": [
    "# Pipeline"
   ]
  },
  {
   "cell_type": "markdown",
   "metadata": {},
   "source": [
    "The reason we use a FeatureUnion is to allow us to combine different Pipelines that run on different features of the training data."
   ]
  },
  {
   "cell_type": "code",
   "execution_count": 27,
   "metadata": {
    "scrolled": false
   },
   "outputs": [
    {
     "name": "stdout",
     "output_type": "stream",
     "text": [
      "<class 'xgboost.sklearn.XGBClassifier'>\n",
      "Confusion Matrix :\n",
      "[[14334  1747]\n",
      " [ 2659 13422]]\n",
      "Accuracy Score : 0.8630060319631864\n",
      "Report : \n",
      "              precision    recall  f1-score   support\n",
      "\n",
      "           0       0.84      0.89      0.87     16081\n",
      "           1       0.88      0.83      0.86     16081\n",
      "\n",
      "    accuracy                           0.86     32162\n",
      "   macro avg       0.86      0.86      0.86     32162\n",
      "weighted avg       0.86      0.86      0.86     32162\n",
      "\n",
      "<class 'sklearn.ensemble._weight_boosting.AdaBoostClassifier'>\n",
      "Confusion Matrix :\n",
      "[[14202  1879]\n",
      " [ 3423 12658]]\n",
      "Accuracy Score : 0.8351470679684099\n",
      "Report : \n",
      "              precision    recall  f1-score   support\n",
      "\n",
      "           0       0.81      0.88      0.84     16081\n",
      "           1       0.87      0.79      0.83     16081\n",
      "\n",
      "    accuracy                           0.84     32162\n",
      "   macro avg       0.84      0.84      0.83     32162\n",
      "weighted avg       0.84      0.84      0.83     32162\n",
      "\n",
      "<class 'sklearn.ensemble._forest.RandomForestClassifier'>\n",
      "Confusion Matrix :\n",
      "[[14082  1999]\n",
      " [ 2835 13246]]\n",
      "Accuracy Score : 0.8496984018406816\n",
      "Report : \n",
      "              precision    recall  f1-score   support\n",
      "\n",
      "           0       0.83      0.88      0.85     16081\n",
      "           1       0.87      0.82      0.85     16081\n",
      "\n",
      "    accuracy                           0.85     32162\n",
      "   macro avg       0.85      0.85      0.85     32162\n",
      "weighted avg       0.85      0.85      0.85     32162\n",
      "\n"
     ]
    }
   ],
   "source": [
    "models = [\n",
    "    XGBClassifier, AdaBoostClassifier, RandomForestClassifier\n",
    "]\n",
    "for model in models:\n",
    "    print(str(model))\n",
    "    pipe = Pipeline([\n",
    "        (\n",
    "            'features',\n",
    "            FeatureUnion([(\n",
    "                'comment_text',\n",
    "                Pipeline([\n",
    "                    ('colext', TextSelector('comment_text')),\n",
    "                    ('tfidf',\n",
    "                     TfidfVectorizer(tokenizer=Tokenizer,\n",
    "                                     min_df=.0025,\n",
    "                                     max_df=0.25,\n",
    "                                     ngram_range=(1, 3))),\n",
    "                    ('svd', TruncatedSVD(algorithm='randomized',\n",
    "                                         n_components=300)),\n",
    "                ]))])),\n",
    "        ('clf', model()),\n",
    "    ])\n",
    "    pipe_trained = pipe.fit(X_train, y_train)\n",
    "    preds = cross_val_predict(pipe, X_train, y_train, cv=5)\n",
    "    \n",
    "    # confusion matrix and classification report\n",
    "    results = confusion_matrix(y_train, preds)\n",
    "    print('Confusion Matrix :')\n",
    "    print((results))\n",
    "    print('Accuracy Score :', accuracy_score(y_train, preds))\n",
    "    print('Report : ')\n",
    "    print(classification_report(y_train, preds))\n",
    "\n",
    "pickle.dump(pipe_trained, open('saved_models/pipe_trained.pkl', 'wb'))    "
   ]
  },
  {
   "cell_type": "markdown",
   "metadata": {},
   "source": [
    "# RandomSearch and GridSearch"
   ]
  },
  {
   "cell_type": "code",
   "execution_count": 28,
   "metadata": {},
   "outputs": [],
   "source": [
    "#timer frunction\n",
    "\n",
    "\n",
    "def timer(start_time=None):\n",
    "    if not start_time:\n",
    "        start_time = datetime.now()\n",
    "        return start_time\n",
    "    elif start_time:\n",
    "        thour, temp_sec = divmod((datetime.now() - start_time).total_seconds(), 3600)\n",
    "        tmin, tsec = divmod(temp_sec, 60)\n",
    "        print('\\n Time taken: %i hours %i minutes and %s seconds.' % (thour, tmin, round(tsec, 2)))"
   ]
  },
  {
   "cell_type": "code",
   "execution_count": 29,
   "metadata": {},
   "outputs": [],
   "source": [
    "xgb_pipe = Pipeline([\n",
    "        (\n",
    "            'features',\n",
    "            FeatureUnion([(\n",
    "                'comment_text',\n",
    "                Pipeline([\n",
    "                    ('colext', TextSelector('comment_text')),\n",
    "                    ('tfidf',\n",
    "                     TfidfVectorizer(tokenizer=Tokenizer,\n",
    "                                     min_df=.0025,\n",
    "                                     max_df=0.25,\n",
    "                                     ngram_range=(1, 3))),\n",
    "                    ('svd', TruncatedSVD(algorithm='randomized',\n",
    "                                         n_components=300)),\n",
    "                ]))])),\n",
    "        ('classifier', XGBClassifier())])"
   ]
  },
  {
   "cell_type": "code",
   "execution_count": 30,
   "metadata": {},
   "outputs": [],
   "source": [
    "parameters_xgb = {\n",
    "    'classifier__max_depth': [2,3],\n",
    "    'classifier__n_estimators': [100,250,500,750,1000],\n",
    "    'classifier__learning_rate': [0.1, 0.5, 1, 0.01],\n",
    "}"
   ]
  },
  {
   "cell_type": "code",
   "execution_count": 40,
   "metadata": {},
   "outputs": [],
   "source": [
    "# RandomizedSearch CV\n",
    "folds = 3\n",
    "param_comb = 5\n",
    "\n",
    "skf = StratifiedKFold(n_splits=folds, shuffle = True, random_state = 1001)\n",
    "\n",
    "random_search = RandomizedSearchCV(xgb_pipe, \n",
    "                                   param_distributions=parameters_xgb, \n",
    "                                   n_iter=param_comb, \n",
    "                                   scoring='recall', \n",
    "                                   n_jobs=-1, \n",
    "                                   cv=10, \n",
    "                                   verbose=3, \n",
    "                                   random_state=1001 )"
   ]
  },
  {
   "cell_type": "code",
   "execution_count": 41,
   "metadata": {},
   "outputs": [],
   "source": [
    "#grid_search_xgb = GridSearchCV(\n",
    "#    estimator=xgb_pipe,\n",
    "#    param_grid=parameters_xgb,\n",
    "#    n_jobs = -1,\n",
    "#    cv = 10,\n",
    "#    verbose=5,\n",
    "#    scoring='recall'\n",
    "#)"
   ]
  },
  {
   "cell_type": "code",
   "execution_count": 42,
   "metadata": {
    "scrolled": true
   },
   "outputs": [
    {
     "name": "stdout",
     "output_type": "stream",
     "text": [
      "Fitting 10 folds for each of 5 candidates, totalling 50 fits\n"
     ]
    },
    {
     "name": "stderr",
     "output_type": "stream",
     "text": [
      "[Parallel(n_jobs=-1)]: Using backend LokyBackend with 4 concurrent workers.\n",
      "[Parallel(n_jobs=-1)]: Done  24 tasks      | elapsed: 63.6min\n",
      "[Parallel(n_jobs=-1)]: Done  50 out of  50 | elapsed: 123.0min finished\n"
     ]
    },
    {
     "name": "stdout",
     "output_type": "stream",
     "text": [
      "\n",
      " Time taken: 2 hours 5 minutes and 2.69 seconds.\n"
     ]
    }
   ],
   "source": [
    "# Here we go\n",
    "start_time = timer(None) # timing starts from this point for \"start_time\" variable\n",
    "RandomSearchXGB = random_search.fit(X_train, y_train)\n",
    "timer(start_time) # timing ends here for \"start_time\" variable"
   ]
  },
  {
   "cell_type": "code",
   "execution_count": 43,
   "metadata": {},
   "outputs": [],
   "source": [
    "#save model\n",
    "pickle.dump(RandomSearchXGB, open('saved_models/xgb_best_model.pkl', 'wb'))\n"
   ]
  },
  {
   "cell_type": "code",
   "execution_count": 44,
   "metadata": {},
   "outputs": [
    {
     "name": "stdout",
     "output_type": "stream",
     "text": [
      "{'mean_fit_time': array([1137.40399354,  191.0494348 ,  419.54470296,  401.72799459,\n",
      "        696.14670858]), 'std_fit_time': array([ 35.63562691,   2.53228169,  20.25144015,   3.96922907,\n",
      "       103.93875383]), 'mean_score_time': array([4.46107121, 4.41299939, 4.3659256 , 4.36163709, 4.03191867]), 'std_score_time': array([0.17355048, 0.20725293, 0.17918415, 0.1662416 , 0.76126753]), 'param_classifier__n_estimators': masked_array(data=[750, 100, 250, 250, 750],\n",
      "             mask=[False, False, False, False, False],\n",
      "       fill_value='?',\n",
      "            dtype=object), 'param_classifier__max_depth': masked_array(data=[3, 3, 3, 3, 2],\n",
      "             mask=[False, False, False, False, False],\n",
      "       fill_value='?',\n",
      "            dtype=object), 'param_classifier__learning_rate': masked_array(data=[0.01, 0.5, 0.5, 1, 0.1],\n",
      "             mask=[False, False, False, False, False],\n",
      "       fill_value='?',\n",
      "            dtype=object), 'params': [{'classifier__n_estimators': 750, 'classifier__max_depth': 3, 'classifier__learning_rate': 0.01}, {'classifier__n_estimators': 100, 'classifier__max_depth': 3, 'classifier__learning_rate': 0.5}, {'classifier__n_estimators': 250, 'classifier__max_depth': 3, 'classifier__learning_rate': 0.5}, {'classifier__n_estimators': 250, 'classifier__max_depth': 3, 'classifier__learning_rate': 1}, {'classifier__n_estimators': 750, 'classifier__max_depth': 2, 'classifier__learning_rate': 0.1}], 'split0_test_score': array([0.80099502, 0.82960199, 0.83022388, 0.83457711, 0.8289801 ]), 'split1_test_score': array([0.79552517, 0.82473586, 0.83592293, 0.82660037, 0.82473586]), 'split2_test_score': array([0.7891791 , 0.82151741, 0.82587065, 0.82960199, 0.83271144]), 'split3_test_score': array([0.79166667, 0.83022388, 0.82587065, 0.83146766, 0.82089552]), 'split4_test_score': array([0.7960199 , 0.82649254, 0.82960199, 0.82587065, 0.81778607]), 'split5_test_score': array([0.81467662, 0.84577114, 0.86504975, 0.84390547, 0.84825871]), 'split6_test_score': array([0.80534826, 0.82462687, 0.84514925, 0.83395522, 0.8289801 ]), 'split7_test_score': array([0.80099502, 0.82027363, 0.83208955, 0.82773632, 0.82835821]), 'split8_test_score': array([0.80223881, 0.82524876, 0.83457711, 0.83084577, 0.83208955]), 'split9_test_score': array([0.80348259, 0.83893035, 0.84825871, 0.83084577, 0.835199  ]), 'mean_test_score': array([0.80001272, 0.82874224, 0.83726145, 0.83154063, 0.82979946]), 'std_test_score': array([0.00696798, 0.00755569, 0.01165671, 0.00493657, 0.00797675]), 'rank_test_score': array([5, 4, 1, 2, 3])}\n",
      "\n",
      " Best estimator:\n",
      "Pipeline(steps=[('features',\n",
      "                 FeatureUnion(transformer_list=[('comment_text',\n",
      "                                                 Pipeline(steps=[('colext',\n",
      "                                                                  TextSelector(field='comment_text')),\n",
      "                                                                 ('tfidf',\n",
      "                                                                  TfidfVectorizer(max_df=0.25,\n",
      "                                                                                  min_df=0.0025,\n",
      "                                                                                  ngram_range=(1,\n",
      "                                                                                               3),\n",
      "                                                                                  tokenizer=<function Tokenizer at 0x00000245EC0578C8>)),\n",
      "                                                                 ('svd',\n",
      "                                                                  TruncatedSVD(n_components=300))]))])),\n",
      "                ('classifier',\n",
      "                 XGBClassifier(base_score=0.5, boos...\n",
      "                               colsample_bytree=1, gamma=0, gpu_id=-1,\n",
      "                               importance_type='gain',\n",
      "                               interaction_constraints='', learning_rate=0.5,\n",
      "                               max_delta_step=0, max_depth=3,\n",
      "                               min_child_weight=1, missing=nan,\n",
      "                               monotone_constraints='()', n_estimators=250,\n",
      "                               n_jobs=0, num_parallel_tree=1, random_state=0,\n",
      "                               reg_alpha=0, reg_lambda=1, scale_pos_weight=1,\n",
      "                               subsample=1, tree_method='exact',\n",
      "                               validate_parameters=1, verbosity=None))])\n",
      "\n",
      " Best normalized gini score for 3-fold search with 5 parameter combinations:\n",
      "0.6745228951575251\n",
      "\n",
      " Best hyperparameters:\n",
      "{'classifier__n_estimators': 250, 'classifier__max_depth': 3, 'classifier__learning_rate': 0.5}\n"
     ]
    }
   ],
   "source": [
    "print(random_search.cv_results_)\n",
    "print('\\n Best estimator:')\n",
    "print(random_search.best_estimator_)\n",
    "print('\\n Best normalized gini score for %d-fold search with %d parameter combinations:' % (folds, param_comb))\n",
    "print(random_search.best_score_ * 2 - 1)\n",
    "print('\\n Best hyperparameters:')\n",
    "print(random_search.best_params_)\n",
    "results = pd.DataFrame(random_search.cv_results_)\n",
    "results.to_csv('xgb-random-grid-search-results-01.csv', index=False)"
   ]
  },
  {
   "cell_type": "code",
   "execution_count": null,
   "metadata": {},
   "outputs": [],
   "source": [
    "y_test_predicted_xgb = RandomSearchXGB.predict(X_test)"
   ]
  },
  {
   "cell_type": "markdown",
   "metadata": {},
   "source": [
    "**GridSearchCV**"
   ]
  },
  {
   "cell_type": "code",
   "execution_count": null,
   "metadata": {},
   "outputs": [],
   "source": [
    "#print(\"Best parameters:\\n{}\".format(grid_search_xgb.best_params_))"
   ]
  },
  {
   "cell_type": "code",
   "execution_count": null,
   "metadata": {},
   "outputs": [],
   "source": [
    "#best_model_rf = grid_search_xgb.best_estimator_['classifier']"
   ]
  },
  {
   "cell_type": "code",
   "execution_count": null,
   "metadata": {},
   "outputs": [],
   "source": [
    "#y_test_predicted_xgb = best_model_rf.predict(X_test)"
   ]
  },
  {
   "cell_type": "code",
   "execution_count": null,
   "metadata": {},
   "outputs": [],
   "source": [
    "#results = confusion_matrix(y_test, y_test_predicted_xgb)\n",
    "#print('Confusion Matrix :')\n",
    "#print((results))\n",
    "#print('Accuracy Score :', accuracy_score(y_test, y_test_predicted_xgb))\n",
    "#print('Report : ')\n",
    "#print(classification_report(y_test, y_test_predicted_xgb))"
   ]
  },
  {
   "cell_type": "code",
   "execution_count": null,
   "metadata": {},
   "outputs": [],
   "source": []
  },
  {
   "cell_type": "code",
   "execution_count": null,
   "metadata": {},
   "outputs": [],
   "source": [
    "abc_pipe = Pipeline([\n",
    "        (\n",
    "            'features',\n",
    "            FeatureUnion([(\n",
    "                'comment_text',\n",
    "                Pipeline([\n",
    "                    ('colext', TextSelector('comment_text')),\n",
    "                    ('tfidf',\n",
    "                     TfidfVectorizer(tokenizer=Tokenizer,\n",
    "                                     min_df=.0025,\n",
    "                                     max_df=0.25,\n",
    "                                     ngram_range=(1, 3))),\n",
    "                    ('svd', TruncatedSVD(algorithm='randomized',\n",
    "                                         n_components=300)),\n",
    "                ]))])),\n",
    "        ('classifier', AdaBoostClassifier())])"
   ]
  },
  {
   "cell_type": "code",
   "execution_count": null,
   "metadata": {},
   "outputs": [],
   "source": [
    "param_abc = {dtc__criterion : [\"gini\", \"entropy\"],\n",
    "              dtc__splitter :   [\"best\", \"random\"],\n",
    "              abc__n_estimators: [none, 1, 2]"
   ]
  },
  {
   "cell_type": "code",
   "execution_count": null,
   "metadata": {},
   "outputs": [],
   "source": [
    "grid_search_abc = GridSearchCV(\n",
    "    estimator=xgb_pipe,\n",
    "    param_grid=parameters_abc,\n",
    "    n_jobs = -1,\n",
    "    cv = 10,\n",
    "    verbose=5,\n",
    "    scoring='recall'\n",
    ")"
   ]
  },
  {
   "cell_type": "code",
   "execution_count": null,
   "metadata": {},
   "outputs": [],
   "source": []
  },
  {
   "cell_type": "markdown",
   "metadata": {},
   "source": [
    "**Confusion Matrix**"
   ]
  },
  {
   "cell_type": "code",
   "execution_count": null,
   "metadata": {},
   "outputs": [],
   "source": [
    "#confusion matrix\n",
    "    cm = skl_m.confusion_matrix(y, y_predicted)\n",
    "    cm = cm.astype('float') / cm.sum(axis=1) [:, np.newaxis] \n",
    "    \n",
    "    # view with a heatmap\n",
    "    plt.figure()\n",
    "    sns.heatmap(cm, annot=True, annot_kws={\"size\":30},\n",
    "                cmap='viridis', square=True, fmt='.0%')\n",
    "    plt.ylabel('True label')\n",
    "    plt.xlabel('Predicted label')\n",
    "    plt.title('Confusion matrix for:\\n{}'.format(model.__class__.__name__));\n",
    "    name=[x for x in globals() if globals()[x] is X][0]\n",
    "    plt.savefig('figures/'+model.__class__.__name__+'_'+name+'.png')"
   ]
  }
 ],
 "metadata": {
  "hide_input": false,
  "kernelspec": {
   "display_name": "Python 3",
   "language": "python",
   "name": "python3"
  },
  "language_info": {
   "codemirror_mode": {
    "name": "ipython",
    "version": 3
   },
   "file_extension": ".py",
   "mimetype": "text/x-python",
   "name": "python",
   "nbconvert_exporter": "python",
   "pygments_lexer": "ipython3",
   "version": "3.6.10"
  },
  "toc": {
   "base_numbering": 1,
   "nav_menu": {},
   "number_sections": true,
   "sideBar": true,
   "skip_h1_title": false,
   "title_cell": "Table of Contents",
   "title_sidebar": "Contents",
   "toc_cell": false,
   "toc_position": {},
   "toc_section_display": true,
   "toc_window_display": true
  }
 },
 "nbformat": 4,
 "nbformat_minor": 4
}
