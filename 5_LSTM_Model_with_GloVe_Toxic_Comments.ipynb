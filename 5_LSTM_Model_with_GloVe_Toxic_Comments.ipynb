{
 "cells": [
  {
   "cell_type": "markdown",
   "metadata": {},
   "source": [
    "# Preparing Data and Model Building"
   ]
  },
  {
   "cell_type": "code",
   "execution_count": 1,
   "metadata": {},
   "outputs": [
    {
     "name": "stderr",
     "output_type": "stream",
     "text": [
      "[nltk_data] Downloading package stopwords to\n",
      "[nltk_data]     /Users/student/nltk_data...\n",
      "[nltk_data]   Package stopwords is already up-to-date!\n",
      "Using TensorFlow backend.\n"
     ]
    }
   ],
   "source": [
    "#workflow and statistics\n",
    "import pandas as pd\n",
    "import numpy as np\n",
    "import matplotlib as matplotlib\n",
    "import matplotlib.pyplot as plt\n",
    "\n",
    "#for showing missing values\n",
    "import missingno as msno\n",
    "\n",
    "#visualisation\n",
    "import seaborn as sns\n",
    "\n",
    "#natural language processing toolkit\n",
    "import nltk\n",
    "import string\n",
    "from nltk.corpus import stopwords  # removes useless words\n",
    "from nltk.stem.lancaster import LancasterStemmer  #converts the words to base form; aggressive\n",
    "from nltk.stem import porter\n",
    "from nltk.stem.util import suffix_replace, prefix_replace\n",
    "from nltk.stem.api import StemmerI\n",
    "from nltk.stem import SnowballStemmer\n",
    "from nltk.corpus import stopwords\n",
    "nltk.download('stopwords')\n",
    "\n",
    "#accessing google cloud storage\n",
    "#from google.cloud import storage\n",
    "#from io import BytesIO\n",
    "#client = storage.Client()\n",
    "#bucket = \"bilderkennung_nf_2020\"\n",
    "\n",
    "#building baseline classifier\n",
    "from sklearn.model_selection import train_test_split\n",
    "import re\n",
    "from tqdm import tqdm_notebook\n",
    "import tensorflow as tf\n",
    "import tensorflow.keras as keras\n",
    "from tensorflow.keras import regularizers, initializers, optimizers, callbacks\n",
    "from tensorflow.keras.preprocessing.sequence import pad_sequences\n",
    "from tensorflow.keras.preprocessing.text import Tokenizer\n",
    "from keras.utils.np_utils import to_categorical\n",
    "from tensorflow.keras.layers import *\n",
    "from tensorflow.keras.models import Model\n",
    "from tensorflow.keras.callbacks import EarlyStopping\n",
    "from tensorflow.keras.callbacks import ModelCheckpoint\n",
    "from tensorflow.keras.models import load_model\n",
    "\n",
    "import os\n",
    "import glob\n",
    "\n",
    "#evaluation metrics\n",
    "from sklearn import metrics\n",
    "from sklearn.metrics import classification_report,confusion_matrix\n",
    "from sklearn.feature_extraction.text import CountVectorizer, TfidfVectorizer\n",
    "from sklearn.dummy import DummyClassifier\n",
    "from sklearn.metrics import accuracy_score, f1_score, confusion_matrix, recall_score\n",
    "\n",
    "# Grid search cross validation\n",
    "from sklearn.model_selection import GridSearchCV"
   ]
  },
  {
   "cell_type": "code",
   "execution_count": 2,
   "metadata": {},
   "outputs": [],
   "source": [
    "# import data into GCP\n",
    "#train_data = pd.read_csv(\"gs://bilderkennung_nf_2020/data /jigsaw-toxic-comment-train.csv\")"
   ]
  },
  {
   "cell_type": "code",
   "execution_count": 3,
   "metadata": {},
   "outputs": [],
   "source": [
    "val = pd.read_csv('./validation.csv')"
   ]
  },
  {
   "cell_type": "code",
   "execution_count": 4,
   "metadata": {},
   "outputs": [
    {
     "data": {
      "text/plain": [
       "(8000, 4)"
      ]
     },
     "execution_count": 4,
     "metadata": {},
     "output_type": "execute_result"
    }
   ],
   "source": [
    "val.shape"
   ]
  },
  {
   "cell_type": "code",
   "execution_count": 5,
   "metadata": {
    "scrolled": false
   },
   "outputs": [
    {
     "data": {
      "text/html": [
       "<div>\n",
       "<style scoped>\n",
       "    .dataframe tbody tr th:only-of-type {\n",
       "        vertical-align: middle;\n",
       "    }\n",
       "\n",
       "    .dataframe tbody tr th {\n",
       "        vertical-align: top;\n",
       "    }\n",
       "\n",
       "    .dataframe thead th {\n",
       "        text-align: right;\n",
       "    }\n",
       "</style>\n",
       "<table border=\"1\" class=\"dataframe\">\n",
       "  <thead>\n",
       "    <tr style=\"text-align: right;\">\n",
       "      <th></th>\n",
       "      <th>id</th>\n",
       "      <th>comment_text</th>\n",
       "      <th>lang</th>\n",
       "      <th>toxic</th>\n",
       "    </tr>\n",
       "  </thead>\n",
       "  <tbody>\n",
       "    <tr>\n",
       "      <th>0</th>\n",
       "      <td>0</td>\n",
       "      <td>Este usuario ni siquiera llega al rango de    ...</td>\n",
       "      <td>es</td>\n",
       "      <td>0</td>\n",
       "    </tr>\n",
       "    <tr>\n",
       "      <th>1</th>\n",
       "      <td>1</td>\n",
       "      <td>Il testo di questa voce pare esser scopiazzato...</td>\n",
       "      <td>it</td>\n",
       "      <td>0</td>\n",
       "    </tr>\n",
       "    <tr>\n",
       "      <th>2</th>\n",
       "      <td>2</td>\n",
       "      <td>Vale. Sólo expongo mi pasado. Todo tiempo pasa...</td>\n",
       "      <td>es</td>\n",
       "      <td>1</td>\n",
       "    </tr>\n",
       "    <tr>\n",
       "      <th>3</th>\n",
       "      <td>3</td>\n",
       "      <td>Bu maddenin alt başlığı olarak  uluslararası i...</td>\n",
       "      <td>tr</td>\n",
       "      <td>0</td>\n",
       "    </tr>\n",
       "    <tr>\n",
       "      <th>4</th>\n",
       "      <td>4</td>\n",
       "      <td>Belçika nın şehirlerinin yanında ilçe ve belde...</td>\n",
       "      <td>tr</td>\n",
       "      <td>0</td>\n",
       "    </tr>\n",
       "  </tbody>\n",
       "</table>\n",
       "</div>"
      ],
      "text/plain": [
       "   id                                       comment_text lang  toxic\n",
       "0   0  Este usuario ni siquiera llega al rango de    ...   es      0\n",
       "1   1  Il testo di questa voce pare esser scopiazzato...   it      0\n",
       "2   2  Vale. Sólo expongo mi pasado. Todo tiempo pasa...   es      1\n",
       "3   3  Bu maddenin alt başlığı olarak  uluslararası i...   tr      0\n",
       "4   4  Belçika nın şehirlerinin yanında ilçe ve belde...   tr      0"
      ]
     },
     "execution_count": 5,
     "metadata": {},
     "output_type": "execute_result"
    }
   ],
   "source": [
    "val.head()"
   ]
  },
  {
   "cell_type": "code",
   "execution_count": 6,
   "metadata": {},
   "outputs": [],
   "source": [
    "train = pd.read_csv('./jigsaw-toxic-comment-train.csv')"
   ]
  },
  {
   "cell_type": "code",
   "execution_count": 7,
   "metadata": {},
   "outputs": [
    {
     "data": {
      "text/plain": [
       "(223549, 8)"
      ]
     },
     "execution_count": 7,
     "metadata": {},
     "output_type": "execute_result"
    }
   ],
   "source": [
    "train.shape"
   ]
  },
  {
   "cell_type": "code",
   "execution_count": 8,
   "metadata": {},
   "outputs": [
    {
     "data": {
      "text/html": [
       "<div>\n",
       "<style scoped>\n",
       "    .dataframe tbody tr th:only-of-type {\n",
       "        vertical-align: middle;\n",
       "    }\n",
       "\n",
       "    .dataframe tbody tr th {\n",
       "        vertical-align: top;\n",
       "    }\n",
       "\n",
       "    .dataframe thead th {\n",
       "        text-align: right;\n",
       "    }\n",
       "</style>\n",
       "<table border=\"1\" class=\"dataframe\">\n",
       "  <thead>\n",
       "    <tr style=\"text-align: right;\">\n",
       "      <th></th>\n",
       "      <th>id</th>\n",
       "      <th>comment_text</th>\n",
       "      <th>toxic</th>\n",
       "      <th>severe_toxic</th>\n",
       "      <th>obscene</th>\n",
       "      <th>threat</th>\n",
       "      <th>insult</th>\n",
       "      <th>identity_hate</th>\n",
       "    </tr>\n",
       "  </thead>\n",
       "  <tbody>\n",
       "    <tr>\n",
       "      <th>0</th>\n",
       "      <td>0000997932d777bf</td>\n",
       "      <td>Explanation\\nWhy the edits made under my usern...</td>\n",
       "      <td>0</td>\n",
       "      <td>0</td>\n",
       "      <td>0</td>\n",
       "      <td>0</td>\n",
       "      <td>0</td>\n",
       "      <td>0</td>\n",
       "    </tr>\n",
       "    <tr>\n",
       "      <th>1</th>\n",
       "      <td>000103f0d9cfb60f</td>\n",
       "      <td>D'aww! He matches this background colour I'm s...</td>\n",
       "      <td>0</td>\n",
       "      <td>0</td>\n",
       "      <td>0</td>\n",
       "      <td>0</td>\n",
       "      <td>0</td>\n",
       "      <td>0</td>\n",
       "    </tr>\n",
       "    <tr>\n",
       "      <th>2</th>\n",
       "      <td>000113f07ec002fd</td>\n",
       "      <td>Hey man, I'm really not trying to edit war. It...</td>\n",
       "      <td>0</td>\n",
       "      <td>0</td>\n",
       "      <td>0</td>\n",
       "      <td>0</td>\n",
       "      <td>0</td>\n",
       "      <td>0</td>\n",
       "    </tr>\n",
       "    <tr>\n",
       "      <th>3</th>\n",
       "      <td>0001b41b1c6bb37e</td>\n",
       "      <td>\"\\nMore\\nI can't make any real suggestions on ...</td>\n",
       "      <td>0</td>\n",
       "      <td>0</td>\n",
       "      <td>0</td>\n",
       "      <td>0</td>\n",
       "      <td>0</td>\n",
       "      <td>0</td>\n",
       "    </tr>\n",
       "    <tr>\n",
       "      <th>4</th>\n",
       "      <td>0001d958c54c6e35</td>\n",
       "      <td>You, sir, are my hero. Any chance you remember...</td>\n",
       "      <td>0</td>\n",
       "      <td>0</td>\n",
       "      <td>0</td>\n",
       "      <td>0</td>\n",
       "      <td>0</td>\n",
       "      <td>0</td>\n",
       "    </tr>\n",
       "  </tbody>\n",
       "</table>\n",
       "</div>"
      ],
      "text/plain": [
       "                 id                                       comment_text  toxic  \\\n",
       "0  0000997932d777bf  Explanation\\nWhy the edits made under my usern...      0   \n",
       "1  000103f0d9cfb60f  D'aww! He matches this background colour I'm s...      0   \n",
       "2  000113f07ec002fd  Hey man, I'm really not trying to edit war. It...      0   \n",
       "3  0001b41b1c6bb37e  \"\\nMore\\nI can't make any real suggestions on ...      0   \n",
       "4  0001d958c54c6e35  You, sir, are my hero. Any chance you remember...      0   \n",
       "\n",
       "   severe_toxic  obscene  threat  insult  identity_hate  \n",
       "0             0        0       0       0              0  \n",
       "1             0        0       0       0              0  \n",
       "2             0        0       0       0              0  \n",
       "3             0        0       0       0              0  \n",
       "4             0        0       0       0              0  "
      ]
     },
     "execution_count": 8,
     "metadata": {},
     "output_type": "execute_result"
    }
   ],
   "source": [
    "train.head()"
   ]
  },
  {
   "cell_type": "code",
   "execution_count": 9,
   "metadata": {},
   "outputs": [],
   "source": [
    "df = train['toxic'].value_counts()"
   ]
  },
  {
   "cell_type": "code",
   "execution_count": 10,
   "metadata": {},
   "outputs": [
    {
     "data": {
      "text/plain": [
       "1     21384\n",
       "0    202165\n",
       "Name: toxic, dtype: int64"
      ]
     },
     "execution_count": 10,
     "metadata": {},
     "output_type": "execute_result"
    }
   ],
   "source": [
    "df.sort_values(0)"
   ]
  },
  {
   "cell_type": "code",
   "execution_count": 11,
   "metadata": {},
   "outputs": [
    {
     "data": {
      "text/plain": [
       "(223549,)"
      ]
     },
     "execution_count": 11,
     "metadata": {},
     "output_type": "execute_result"
    }
   ],
   "source": [
    "train['toxic'].shape"
   ]
  },
  {
   "cell_type": "code",
   "execution_count": 12,
   "metadata": {},
   "outputs": [
    {
     "name": "stdout",
     "output_type": "stream",
     "text": [
      "11.350645759268069 88.64935424073192\n"
     ]
    }
   ],
   "source": [
    "toxic = (48434/426707)*100\n",
    "non_toxic = (378273/426707)*100\n",
    "print(toxic, non_toxic)"
   ]
  },
  {
   "cell_type": "code",
   "execution_count": 13,
   "metadata": {},
   "outputs": [],
   "source": [
    "toxic = 11.35\n",
    "non_toxic = 88.65"
   ]
  },
  {
   "cell_type": "code",
   "execution_count": 14,
   "metadata": {},
   "outputs": [],
   "source": [
    "data_ = {'toxic':[11.4], 'non-toxic':[88.9]}"
   ]
  },
  {
   "cell_type": "code",
   "execution_count": 15,
   "metadata": {},
   "outputs": [
    {
     "data": {
      "text/html": [
       "<div>\n",
       "<style scoped>\n",
       "    .dataframe tbody tr th:only-of-type {\n",
       "        vertical-align: middle;\n",
       "    }\n",
       "\n",
       "    .dataframe tbody tr th {\n",
       "        vertical-align: top;\n",
       "    }\n",
       "\n",
       "    .dataframe thead th {\n",
       "        text-align: right;\n",
       "    }\n",
       "</style>\n",
       "<table border=\"1\" class=\"dataframe\">\n",
       "  <thead>\n",
       "    <tr style=\"text-align: right;\">\n",
       "      <th></th>\n",
       "      <th>0</th>\n",
       "    </tr>\n",
       "  </thead>\n",
       "  <tbody>\n",
       "    <tr>\n",
       "      <th>toxic</th>\n",
       "      <td>11.4</td>\n",
       "    </tr>\n",
       "    <tr>\n",
       "      <th>non-toxic</th>\n",
       "      <td>88.9</td>\n",
       "    </tr>\n",
       "  </tbody>\n",
       "</table>\n",
       "</div>"
      ],
      "text/plain": [
       "              0\n",
       "toxic      11.4\n",
       "non-toxic  88.9"
      ]
     },
     "execution_count": 15,
     "metadata": {},
     "output_type": "execute_result"
    }
   ],
   "source": [
    "rel_dist = pd.DataFrame.from_dict(data_)\n",
    "rel_dist.transpose()"
   ]
  },
  {
   "cell_type": "code",
   "execution_count": 16,
   "metadata": {},
   "outputs": [],
   "source": [
    "import matplotlib.ticker as mtick"
   ]
  },
  {
   "cell_type": "code",
   "execution_count": 17,
   "metadata": {},
   "outputs": [
    {
     "data": {
      "text/plain": [
       "<Figure size 720x432 with 0 Axes>"
      ]
     },
     "metadata": {},
     "output_type": "display_data"
    },
    {
     "data": {
      "image/png": "[encoded data removed]",
      "text/plain": [
       "<Figure size 432x288 with 1 Axes>"
      ]
     },
     "metadata": {
      "needs_background": "light"
     },
     "output_type": "display_data"
    }
   ],
   "source": [
    "plt.figure(1,figsize=(10,6))\n",
    "ax = rel_dist.plot(kind='bar', colormap='Pastel2')\n",
    "ax.yaxis.set_major_formatter(mtick.PercentFormatter())\n",
    "plt.title(\"Occurences of toxic vs non-toxic comments\",fontsize=20)\n",
    "#plt.ylabel('number of Occurrences', fontsize=15,labelpad=20)\n",
    "plt.xlabel('comments', fontsize=15,labelpad=20)\n",
    "plt.show()"
   ]
  },
  {
   "cell_type": "markdown",
   "metadata": {},
   "source": [
    "As we can see in the plot above our comment classes are not of equal size and therefore our data needs rebalancing before executing any model on it."
   ]
  },
  {
   "cell_type": "markdown",
   "metadata": {},
   "source": [
    "**Prepare the model**"
   ]
  },
  {
   "cell_type": "markdown",
   "metadata": {},
   "source": [
    "In the following steps, we will set the key model parameters and split the data.\n",
    "- “MAX_NB_WORDS” sets the maximum number of words to consider as features for tokenizer.\n",
    "- “MAX_SEQUENCE_LENGTH” cuts off texts after this number of words (among the MAX_NB_WORDS most common words).\n",
    "- “VALIDATION_SPLIT” sets a portion of data for validation and not used in training.\n",
    "- “EMBEDDING_DIM” defines the size of the “vector space”.\n",
    "- “GLOVE_DIR” defines the GloVe file directory.\n",
    "- Split the data into the texts and the labels."
   ]
  },
  {
   "cell_type": "code",
   "execution_count": 18,
   "metadata": {},
   "outputs": [],
   "source": [
    "MAX_NB_WORDS = 100000    # max no. of words for tokenizer\n",
    "MAX_SEQUENCE_LENGTH = 200 # max length of each entry (sentence), including padding\n",
    "VALIDATION_SPLIT = 0.2   # data for validation (not used in training)\n",
    "EMBEDDING_DIM = 100      # embedding dimensions for word vectors (word2vec/GloVe)\n",
    "#GLOVE_DIR = \n"
   ]
  },
  {
   "cell_type": "markdown",
   "metadata": {},
   "source": [
    "**Text Cleaning**"
   ]
  },
  {
   "cell_type": "markdown",
   "metadata": {},
   "source": [
    "remove stopwords, punctuation and make everything lowercase:"
   ]
  },
  {
   "cell_type": "code",
   "execution_count": null,
   "metadata": {},
   "outputs": [],
   "source": [
    "def remove_punctuation(text):\n",
    "    '''a function for removing punctuation'''\n",
    "    import string\n",
    "    translator = str.maketrans('', '', string.punctuation)\n",
    "    return text.translate(translator)\n",
    "train['comment_text'] = train['comment_text'].apply(remove_punctuation)"
   ]
  },
  {
   "cell_type": "code",
   "execution_count": null,
   "metadata": {},
   "outputs": [],
   "source": [
    "sw=stopwords.words('english')\n",
    "def removesw(text):\n",
    "    '''a function for removing the stopword'''\n",
    "    # removing the stop words and lowercasing the selected words\n",
    "    text = [word.lower() for word in text.split() if word.lower() not in sw]\n",
    "    # joining the list of words with space separator\n",
    "    return \" \".join(text)\n",
    "train['comment_text'] = train['comment_text'].apply(removesw)"
   ]
  },
  {
   "cell_type": "code",
   "execution_count": null,
   "metadata": {},
   "outputs": [],
   "source": [
    "stemmer = SnowballStemmer(\"english\")\n",
    "\n",
    "def stemming(text):    \n",
    "    '''a function which stems each word in the given text'''\n",
    "    text = [stemmer.stem(word) for word in text.split()]\n",
    "    return \" \".join(text) \n",
    "train['comment_text'] = train['comment_text'].apply(stemming)"
   ]
  },
  {
   "cell_type": "markdown",
   "metadata": {},
   "source": [
    " Have a look a sample data:"
   ]
  },
  {
   "cell_type": "code",
   "execution_count": null,
   "metadata": {},
   "outputs": [],
   "source": [
    "#print('Sample data:',   )"
   ]
  },
  {
   "cell_type": "markdown",
   "metadata": {},
   "source": [
    "### Prepare the Data"
   ]
  },
  {
   "cell_type": "code",
   "execution_count": 19,
   "metadata": {},
   "outputs": [],
   "source": [
    "labels = ['toxic']\n",
    "y = train[labels].values\n",
    "comments_train = train['comment_text']\n",
    "comments_val = val['comment_text']"
   ]
  },
  {
   "cell_type": "code",
   "execution_count": 20,
   "metadata": {},
   "outputs": [],
   "source": [
    "comments_train = list(comments_train)"
   ]
  },
  {
   "cell_type": "code",
   "execution_count": 21,
   "metadata": {},
   "outputs": [],
   "source": [
    "def clean_text(text, remove_stopwords = True):\n",
    "    output = \"\"\n",
    "    text = str(text).replace(\"\\n\", \"\")\n",
    "    text = re.sub(r'[^\\w\\s]','',text).lower()\n",
    "    if remove_stopwords:\n",
    "        text = text.split(\" \")\n",
    "        for word in text:\n",
    "            if word not in stopwords.words(\"english\"):\n",
    "                output = output + \" \" + word\n",
    "    else:\n",
    "        output = text\n",
    "    return str(output.strip())[1:-3].replace(\"  \", \" \")"
   ]
  },
  {
   "cell_type": "code",
   "execution_count": 22,
   "metadata": {},
   "outputs": [
    {
     "name": "stderr",
     "output_type": "stream",
     "text": [
      "/Users/student/opt/anaconda3/envs/nf/lib/python3.6/site-packages/ipykernel_launcher.py:3: TqdmDeprecationWarning: This function will be removed in tqdm==5.0.0\n",
      "Please use `tqdm.notebook.tqdm` instead of `tqdm.tqdm_notebook`\n",
      "  This is separate from the ipykernel package so we can avoid doing imports until\n"
     ]
    },
    {
     "data": {
      "application/vnd.jupyter.widget-view+json": {
       "model_id": "a569295396f0462cbc7cb86680209458",
       "version_major": 2,
       "version_minor": 0
      },
      "text/plain": [
       "HBox(children=(FloatProgress(value=0.0, max=159571.0), HTML(value='')))"
      ]
     },
     "metadata": {},
     "output_type": "display_data"
    },
    {
     "name": "stdout",
     "output_type": "stream",
     "text": [
      "\n"
     ]
    }
   ],
   "source": [
    "texts = [] \n",
    "\n",
    "for line in tqdm_notebook(comments_train, total=159571): \n",
    "    texts.append(clean_text(line))"
   ]
  },
  {
   "cell_type": "code",
   "execution_count": 23,
   "metadata": {},
   "outputs": [
    {
     "name": "stdout",
     "output_type": "stream",
     "text": [
      "Sample data: aww matches background colour im seemingly stuck thanks talk 2151 january 11 2016  [0]\n"
     ]
    }
   ],
   "source": [
    "print('Sample data:', texts[1], y[1])"
   ]
  },
  {
   "cell_type": "code",
   "execution_count": 24,
   "metadata": {},
   "outputs": [],
   "source": [
    "tokenizer = Tokenizer(num_words=MAX_NB_WORDS)\n",
    "tokenizer.fit_on_texts(texts)"
   ]
  },
  {
   "cell_type": "code",
   "execution_count": 25,
   "metadata": {},
   "outputs": [
    {
     "name": "stdout",
     "output_type": "stream",
     "text": [
      "Vocabulary size: 431032\n"
     ]
    }
   ],
   "source": [
    "sequences = tokenizer.texts_to_sequences(texts)\n",
    "word_index = tokenizer.word_index\n",
    "print('Vocabulary size:', len(word_index))"
   ]
  },
  {
   "cell_type": "code",
   "execution_count": 26,
   "metadata": {},
   "outputs": [
    {
     "name": "stdout",
     "output_type": "stream",
     "text": [
      "Shape of data tensor: (223549, 200)\n",
      "Shape of label tensor: (223549, 1)\n"
     ]
    }
   ],
   "source": [
    "data = pad_sequences(sequences, padding = 'post', maxlen = MAX_SEQUENCE_LENGTH)\n",
    "\n",
    "print('Shape of data tensor:', data.shape)\n",
    "print('Shape of label tensor:', y.shape)"
   ]
  },
  {
   "cell_type": "code",
   "execution_count": 27,
   "metadata": {},
   "outputs": [],
   "source": [
    "indices = np.arange(data.shape[0])\n",
    "np.random.shuffle(indices)\n",
    "data = data[indices]\n",
    "labels = y[indices]"
   ]
  },
  {
   "cell_type": "code",
   "execution_count": 28,
   "metadata": {},
   "outputs": [],
   "source": [
    "num_validation_samples = int(VALIDATION_SPLIT*data.shape[0])\n",
    "x_train = data[: -num_validation_samples]\n",
    "y_train = labels[: -num_validation_samples]\n",
    "x_val = data[-num_validation_samples: ]\n",
    "y_val = labels[-num_validation_samples: ]"
   ]
  },
  {
   "cell_type": "code",
   "execution_count": 29,
   "metadata": {
    "scrolled": false
   },
   "outputs": [
    {
     "name": "stdout",
     "output_type": "stream",
     "text": [
      "Number of entries in each category:\n",
      "training:  [17032]\n",
      "validation:  [4352]\n"
     ]
    }
   ],
   "source": [
    "print('Number of entries in each category:')\n",
    "print('training: ', y_train.sum(axis=0))\n",
    "print('validation: ', y_val.sum(axis=0))"
   ]
  },
  {
   "cell_type": "code",
   "execution_count": 30,
   "metadata": {},
   "outputs": [
    {
     "name": "stdout",
     "output_type": "stream",
     "text": [
      "Tokenized sentences: \n",
      " [ 6505    75    48    31   456     1   138  1900   863  1010  2615     5\n",
      "   836  7215 28047    86   836   808  1788 21095  2013    46  2034   514\n",
      " 11314  6120   524   330   389 17079  1328     1  1010  1110   524    45\n",
      "  6919   106   352  1821    34   428 21033   818   345   140    23  9034\n",
      "  6068  7817    21   257   171  4926  1062  4393  5759  1290   174   213\n",
      "  3907  1871 48503     0     0     0     0     0     0     0     0     0\n",
      "     0     0     0     0     0     0     0     0     0     0     0     0\n",
      "     0     0     0     0     0     0     0     0     0     0     0     0\n",
      "     0     0     0     0     0     0     0     0     0     0     0     0\n",
      "     0     0     0     0     0     0     0     0     0     0     0     0\n",
      "     0     0     0     0     0     0     0     0     0     0     0     0\n",
      "     0     0     0     0     0     0     0     0     0     0     0     0\n",
      "     0     0     0     0     0     0     0     0     0     0     0     0\n",
      "     0     0     0     0     0     0     0     0     0     0     0     0\n",
      "     0     0     0     0     0     0     0     0     0     0     0     0\n",
      "     0     0     0     0     0     0     0     0     0     0     0     0\n",
      "     0     0     0     0     0     0     0     0]\n",
      "One hot label: \n",
      " [0]\n"
     ]
    }
   ],
   "source": [
    "print('Tokenized sentences: \\n', data[10])\n",
    "print('One hot label: \\n', labels[10])"
   ]
  },
  {
   "cell_type": "markdown",
   "metadata": {},
   "source": [
    "## Create the LSTM model"
   ]
  },
  {
   "cell_type": "markdown",
   "metadata": {},
   "source": [
    "We will use pre-trained GloVe vectors from Stanford to create an index of words mapped to known embeddings, by parsing the data dump of pre-trained embeddings.\n",
    "Then load word embeddings into an embeddings_index"
   ]
  },
  {
   "cell_type": "code",
   "execution_count": 31,
   "metadata": {},
   "outputs": [
    {
     "name": "stdout",
     "output_type": "stream",
     "text": [
      "Done.\n",
      " Proceeding with Embedding Matrix... Completed!\n"
     ]
    }
   ],
   "source": [
    "embeddings_index = {}\n",
    "\n",
    "#with open(\"GloVe/glove.6B/glove.6B.50d.txt\", 'r') as f:\n",
    "f= open(\"glove.6B.100d.txt\",\"w+\")\n",
    "for line in f:\n",
    "    values = line.split()\n",
    "    word = values[0]\n",
    "    embeddings_index[word] = np.asarray(values[1:], dtype='float32')\n",
    "f.close()\n",
    "print(\"Done.\\n Proceeding with Embedding Matrix...\", end=\"\")\n",
    "\n",
    "embedding_matrix = np.random.random((len(word_index) + 1, EMBEDDING_DIM))\n",
    "for word, i in word_index.items():\n",
    "    embedding_vector = embeddings_index.get(word)\n",
    "    if embedding_vector is not None:\n",
    "        embedding_matrix[i] = embedding_vector\n",
    "print(\" Completed!\")"
   ]
  },
  {
   "cell_type": "markdown",
   "metadata": {},
   "source": [
    "- Create the embedding layers.\n",
    "- Specifies the maximum input length to the Embedding layer.\n",
    "- Make use of the output from the previous embedding layer which outputs a 3-D tensor into the LSTM layer.\n",
    "- Use a Global Max Pooling layer to to reshape the 3D tensor into a 2D one.\n",
    "- We set the dropout layer to drop out 10% of the nodes.\n",
    "- We define the Dense layer to produce a output dimension of 50.\n",
    "- We feed the output into a Dropout layer again.\n",
    "- Finally, we feed the output into a “Sigmoid” layer."
   ]
  },
  {
   "cell_type": "code",
   "execution_count": 32,
   "metadata": {},
   "outputs": [],
   "source": [
    "sequence_input = Input(shape=(MAX_SEQUENCE_LENGTH,), dtype='int32')\n",
    "embedding_layer = Embedding(len(word_index) + 1,\n",
    "                           EMBEDDING_DIM,\n",
    "                           weights = [embedding_matrix],\n",
    "                           input_length = MAX_SEQUENCE_LENGTH,\n",
    "                           trainable=False,\n",
    "                           name = 'embeddings')\n",
    "embedded_sequences = embedding_layer(sequence_input)"
   ]
  },
  {
   "cell_type": "code",
   "execution_count": 33,
   "metadata": {},
   "outputs": [],
   "source": [
    "x = LSTM(60, return_sequences=True,name='lstm_layer')(embedded_sequences)\n",
    "x = GlobalMaxPool1D()(x)\n",
    "x = Dropout(0.1)(x)\n",
    "x = Dense(50, activation=\"relu\")(x)\n",
    "x = Dropout(0.1)(x)\n",
    "preds = Dense(1, activation=\"sigmoid\")(x)"
   ]
  },
  {
   "cell_type": "markdown",
   "metadata": {},
   "source": [
    "Its time to Compile the model into a static graph for training.\n",
    "- Define the inputs, outputs and configure the learning process.\n",
    "- Set the model to optimize our loss function using “Adam” optimizer, define the loss function to be “binary_crossentropy”"
   ]
  },
  {
   "cell_type": "code",
   "execution_count": 42,
   "metadata": {},
   "outputs": [],
   "source": [
    "model = Model(sequence_input, preds)\n",
    "model.compile(loss = 'binary_crossentropy',\n",
    "             optimizer='adam',\n",
    "             metrics = ['accuracy', 'AUC'])"
   ]
  },
  {
   "cell_type": "markdown",
   "metadata": {},
   "source": [
    "**Implementin EarlyStop and ModelCheckpoint for best model output**"
   ]
  },
  {
   "cell_type": "code",
   "execution_count": 43,
   "metadata": {},
   "outputs": [],
   "source": [
    "es = EarlyStopping(monitor='val_loss', mode='auto', verbose=1, patience=10)\n",
    "mc = ModelCheckpoint('best_LSTM_model.h5', monitor='val_accuracy', mode='auto', verbose=1, save_best_only=True)"
   ]
  },
  {
   "cell_type": "code",
   "execution_count": 44,
   "metadata": {},
   "outputs": [
    {
     "data": {
      "image/png": "[encoded data removed]",
      "text/plain": [
       "<IPython.core.display.Image object>"
      ]
     },
     "execution_count": 44,
     "metadata": {},
     "output_type": "execute_result"
    }
   ],
   "source": [
    "#visualize the model's architecture\n",
    "tf.keras.utils.plot_model(model)"
   ]
  },
  {
   "cell_type": "markdown",
   "metadata": {},
   "source": [
    "## Training"
   ]
  },
  {
   "cell_type": "markdown",
   "metadata": {},
   "source": [
    "- Feed in a list of 32 padded, indexed sentence for each batch. The validation set will be used to assess whether the model has overfitted.\n",
    "- The model will run for 2 epochs, because even 2 epochs is enough to overfit."
   ]
  },
  {
   "cell_type": "code",
   "execution_count": 37,
   "metadata": {},
   "outputs": [
    {
     "data": {
      "text/plain": [
       "(178840, 200)"
      ]
     },
     "execution_count": 37,
     "metadata": {},
     "output_type": "execute_result"
    }
   ],
   "source": [
    "x_train.shape"
   ]
  },
  {
   "cell_type": "code",
   "execution_count": 38,
   "metadata": {
    "scrolled": false
   },
   "outputs": [
    {
     "data": {
      "text/plain": [
       "(44709, 200)"
      ]
     },
     "execution_count": 38,
     "metadata": {},
     "output_type": "execute_result"
    }
   ],
   "source": [
    "x_val.shape"
   ]
  },
  {
   "cell_type": "code",
   "execution_count": 39,
   "metadata": {
    "scrolled": true
   },
   "outputs": [
    {
     "data": {
      "text/plain": [
       "(178840, 1)"
      ]
     },
     "execution_count": 39,
     "metadata": {},
     "output_type": "execute_result"
    }
   ],
   "source": [
    "y_train.shape"
   ]
  },
  {
   "cell_type": "code",
   "execution_count": 40,
   "metadata": {},
   "outputs": [
    {
     "data": {
      "text/plain": [
       "(44709, 1)"
      ]
     },
     "execution_count": 40,
     "metadata": {},
     "output_type": "execute_result"
    }
   ],
   "source": [
    "y_val.shape"
   ]
  },
  {
   "cell_type": "code",
   "execution_count": 45,
   "metadata": {
    "scrolled": false
   },
   "outputs": [
    {
     "name": "stdout",
     "output_type": "stream",
     "text": [
      "Training progress:\n",
      "Epoch 1/30\n",
      "5588/5589 [============================>.] - ETA: 0s - loss: 0.2461 - accuracy: 0.9216 - auc: 0.7895\n",
      "Epoch 00001: val_accuracy improved from -inf to 0.92990, saving model to best_LSTM_model.h5\n",
      "5589/5589 [==============================] - 315s 56ms/step - loss: 0.2461 - accuracy: 0.9216 - auc: 0.7895 - val_loss: 0.2076 - val_accuracy: 0.9299 - val_auc: 0.8737\n",
      "Epoch 2/30\n",
      "5589/5589 [==============================] - ETA: 0s - loss: 0.2003 - accuracy: 0.9322 - auc: 0.8787\n",
      "Epoch 00002: val_accuracy improved from 0.92990 to 0.93290, saving model to best_LSTM_model.h5\n",
      "5589/5589 [==============================] - 333s 60ms/step - loss: 0.2003 - accuracy: 0.9322 - auc: 0.8787 - val_loss: 0.1973 - val_accuracy: 0.9329 - val_auc: 0.8981\n",
      "Epoch 3/30\n",
      "5589/5589 [==============================] - ETA: 0s - loss: 0.1859 - accuracy: 0.9362 - auc: 0.8985\n",
      "Epoch 00003: val_accuracy improved from 0.93290 to 0.93529, saving model to best_LSTM_model.h5\n",
      "5589/5589 [==============================] - 343s 61ms/step - loss: 0.1859 - accuracy: 0.9362 - auc: 0.8985 - val_loss: 0.1881 - val_accuracy: 0.9353 - val_auc: 0.9074\n",
      "Epoch 4/30\n",
      "5589/5589 [==============================] - ETA: 0s - loss: 0.1792 - accuracy: 0.9381 - auc: 0.9080\n",
      "Epoch 00004: val_accuracy improved from 0.93529 to 0.93793, saving model to best_LSTM_model.h5\n",
      "5589/5589 [==============================] - 346s 62ms/step - loss: 0.1792 - accuracy: 0.9381 - auc: 0.9080 - val_loss: 0.1781 - val_accuracy: 0.9379 - val_auc: 0.9167\n",
      "Epoch 5/30\n",
      "5589/5589 [==============================] - ETA: 0s - loss: 0.1726 - accuracy: 0.9399 - auc: 0.9158\n",
      "Epoch 00005: val_accuracy improved from 0.93793 to 0.93869, saving model to best_LSTM_model.h5\n",
      "5589/5589 [==============================] - 341s 61ms/step - loss: 0.1726 - accuracy: 0.9399 - auc: 0.9158 - val_loss: 0.1740 - val_accuracy: 0.9387 - val_auc: 0.9181\n",
      "Epoch 6/30\n",
      "5589/5589 [==============================] - ETA: 0s - loss: 0.1696 - accuracy: 0.9407 - auc: 0.9190\n",
      "Epoch 00006: val_accuracy improved from 0.93869 to 0.94057, saving model to best_LSTM_model.h5\n",
      "5589/5589 [==============================] - 345s 62ms/step - loss: 0.1696 - accuracy: 0.9407 - auc: 0.9190 - val_loss: 0.1719 - val_accuracy: 0.9406 - val_auc: 0.9193\n",
      "Epoch 7/30\n",
      "5589/5589 [==============================] - ETA: 0s - loss: 0.1651 - accuracy: 0.9419 - auc: 0.9245\n",
      "Epoch 00007: val_accuracy did not improve from 0.94057\n",
      "5589/5589 [==============================] - 339s 61ms/step - loss: 0.1651 - accuracy: 0.9419 - auc: 0.9245 - val_loss: 0.1710 - val_accuracy: 0.9399 - val_auc: 0.9238\n",
      "Epoch 8/30\n",
      "5589/5589 [==============================] - ETA: 0s - loss: 0.1619 - accuracy: 0.9426 - auc: 0.9283\n",
      "Epoch 00008: val_accuracy did not improve from 0.94057\n",
      "5589/5589 [==============================] - 350s 63ms/step - loss: 0.1619 - accuracy: 0.9426 - auc: 0.9283 - val_loss: 0.1739 - val_accuracy: 0.9392 - val_auc: 0.9198\n",
      "Epoch 9/30\n",
      "5589/5589 [==============================] - ETA: 0s - loss: 0.1590 - accuracy: 0.9430 - auc: 0.9313\n",
      "Epoch 00009: val_accuracy improved from 0.94057 to 0.94156, saving model to best_LSTM_model.h5\n",
      "5589/5589 [==============================] - 342s 61ms/step - loss: 0.1590 - accuracy: 0.9430 - auc: 0.9313 - val_loss: 0.1636 - val_accuracy: 0.9416 - val_auc: 0.9278\n",
      "Epoch 10/30\n",
      "5589/5589 [==============================] - ETA: 0s - loss: 0.1580 - accuracy: 0.9436 - auc: 0.9322\n",
      "Epoch 00010: val_accuracy did not improve from 0.94156\n",
      "5589/5589 [==============================] - 328s 59ms/step - loss: 0.1580 - accuracy: 0.9436 - auc: 0.9322 - val_loss: 0.1650 - val_accuracy: 0.9409 - val_auc: 0.9284\n",
      "Epoch 11/30\n",
      "5589/5589 [==============================] - ETA: 0s - loss: 0.1554 - accuracy: 0.9440 - auc: 0.9354\n",
      "Epoch 00011: val_accuracy did not improve from 0.94156\n",
      "5589/5589 [==============================] - 304s 54ms/step - loss: 0.1554 - accuracy: 0.9440 - auc: 0.9354 - val_loss: 0.1651 - val_accuracy: 0.9411 - val_auc: 0.9269\n",
      "Epoch 12/30\n",
      "5588/5589 [============================>.] - ETA: 0s - loss: 0.1532 - accuracy: 0.9448 - auc: 0.9373\n",
      "Epoch 00012: val_accuracy did not improve from 0.94156\n",
      "5589/5589 [==============================] - 775s 139ms/step - loss: 0.1532 - accuracy: 0.9448 - auc: 0.9373 - val_loss: 0.1663 - val_accuracy: 0.9411 - val_auc: 0.9257\n",
      "Epoch 13/30\n",
      "5588/5589 [============================>.] - ETA: 0s - loss: 0.1526 - accuracy: 0.9447 - auc: 0.9379\n",
      "Epoch 00013: val_accuracy did not improve from 0.94156\n",
      "5589/5589 [==============================] - 307s 55ms/step - loss: 0.1526 - accuracy: 0.9447 - auc: 0.9379 - val_loss: 0.1641 - val_accuracy: 0.9412 - val_auc: 0.9278\n",
      "Epoch 14/30\n",
      "5589/5589 [==============================] - ETA: 0s - loss: 0.1496 - accuracy: 0.9460 - auc: 0.9410\n",
      "Epoch 00014: val_accuracy did not improve from 0.94156\n",
      "5589/5589 [==============================] - 321s 57ms/step - loss: 0.1496 - accuracy: 0.9460 - auc: 0.9410 - val_loss: 0.1684 - val_accuracy: 0.9407 - val_auc: 0.9249\n",
      "Epoch 15/30\n",
      "5589/5589 [==============================] - ETA: 0s - loss: 0.1474 - accuracy: 0.9463 - auc: 0.9430\n",
      "Epoch 00015: val_accuracy did not improve from 0.94156\n",
      "5589/5589 [==============================] - 328s 59ms/step - loss: 0.1474 - accuracy: 0.9463 - auc: 0.9430 - val_loss: 0.1658 - val_accuracy: 0.9413 - val_auc: 0.9270\n",
      "Epoch 16/30\n",
      "5589/5589 [==============================] - ETA: 0s - loss: 0.1457 - accuracy: 0.9466 - auc: 0.9446\n",
      "Epoch 00016: val_accuracy did not improve from 0.94156\n",
      "5589/5589 [==============================] - 370s 66ms/step - loss: 0.1457 - accuracy: 0.9466 - auc: 0.9446 - val_loss: 0.1656 - val_accuracy: 0.9401 - val_auc: 0.9268\n",
      "Epoch 17/30\n",
      "5589/5589 [==============================] - ETA: 0s - loss: 0.1442 - accuracy: 0.9471 - auc: 0.9464\n",
      "Epoch 00017: val_accuracy did not improve from 0.94156\n",
      "5589/5589 [==============================] - 340s 61ms/step - loss: 0.1442 - accuracy: 0.9471 - auc: 0.9464 - val_loss: 0.1728 - val_accuracy: 0.9402 - val_auc: 0.9252\n",
      "Epoch 18/30\n",
      "5589/5589 [==============================] - ETA: 0s - loss: 0.1417 - accuracy: 0.9476 - auc: 0.9486\n",
      "Epoch 00018: val_accuracy improved from 0.94156 to 0.94162, saving model to best_LSTM_model.h5\n",
      "5589/5589 [==============================] - 335s 60ms/step - loss: 0.1417 - accuracy: 0.9476 - auc: 0.9486 - val_loss: 0.1682 - val_accuracy: 0.9416 - val_auc: 0.9274\n",
      "Epoch 19/30\n",
      "5589/5589 [==============================] - ETA: 0s - loss: 0.1396 - accuracy: 0.9488 - auc: 0.9500\n",
      "Epoch 00019: val_accuracy improved from 0.94162 to 0.94279, saving model to best_LSTM_model.h5\n",
      "5589/5589 [==============================] - 333s 60ms/step - loss: 0.1396 - accuracy: 0.9488 - auc: 0.9500 - val_loss: 0.1618 - val_accuracy: 0.9428 - val_auc: 0.9301\n",
      "Epoch 20/30\n",
      "5589/5589 [==============================] - ETA: 0s - loss: 0.1378 - accuracy: 0.9492 - auc: 0.9518\n",
      "Epoch 00020: val_accuracy did not improve from 0.94279\n",
      "5589/5589 [==============================] - 334s 60ms/step - loss: 0.1378 - accuracy: 0.9492 - auc: 0.9518 - val_loss: 0.1693 - val_accuracy: 0.9388 - val_auc: 0.9238\n",
      "Epoch 21/30\n",
      "5589/5589 [==============================] - ETA: 0s - loss: 0.1369 - accuracy: 0.9487 - auc: 0.9526\n",
      "Epoch 00021: val_accuracy did not improve from 0.94279\n",
      "5589/5589 [==============================] - 339s 61ms/step - loss: 0.1369 - accuracy: 0.9487 - auc: 0.9526 - val_loss: 0.1694 - val_accuracy: 0.9418 - val_auc: 0.9252\n",
      "Epoch 22/30\n",
      "5589/5589 [==============================] - ETA: 0s - loss: 0.1349 - accuracy: 0.9500 - auc: 0.9539\n",
      "Epoch 00022: val_accuracy did not improve from 0.94279\n",
      "5589/5589 [==============================] - 328s 59ms/step - loss: 0.1349 - accuracy: 0.9500 - auc: 0.9539 - val_loss: 0.1647 - val_accuracy: 0.9419 - val_auc: 0.9283\n",
      "Epoch 23/30\n",
      "5589/5589 [==============================] - ETA: 0s - loss: 0.1328 - accuracy: 0.9502 - auc: 0.9555\n",
      "Epoch 00023: val_accuracy did not improve from 0.94279\n",
      "5589/5589 [==============================] - 355s 64ms/step - loss: 0.1328 - accuracy: 0.9502 - auc: 0.9555 - val_loss: 0.1687 - val_accuracy: 0.9418 - val_auc: 0.9279\n",
      "Epoch 24/30\n"
     ]
    },
    {
     "name": "stdout",
     "output_type": "stream",
     "text": [
      "5589/5589 [==============================] - ETA: 0s - loss: 0.1316 - accuracy: 0.9503 - auc: 0.9568\n",
      "Epoch 00024: val_accuracy did not improve from 0.94279\n",
      "5589/5589 [==============================] - 533s 95ms/step - loss: 0.1316 - accuracy: 0.9503 - auc: 0.9568 - val_loss: 0.1694 - val_accuracy: 0.9416 - val_auc: 0.9256\n",
      "Epoch 25/30\n",
      "5589/5589 [==============================] - ETA: 0s - loss: 0.1294 - accuracy: 0.9512 - auc: 0.9586\n",
      "Epoch 00025: val_accuracy did not improve from 0.94279\n",
      "5589/5589 [==============================] - 511s 91ms/step - loss: 0.1294 - accuracy: 0.9512 - auc: 0.9586 - val_loss: 0.1630 - val_accuracy: 0.9421 - val_auc: 0.9294\n",
      "Epoch 26/30\n",
      "5589/5589 [==============================] - ETA: 0s - loss: 0.1282 - accuracy: 0.9519 - auc: 0.9593\n",
      "Epoch 00026: val_accuracy did not improve from 0.94279\n",
      "5589/5589 [==============================] - 355s 63ms/step - loss: 0.1282 - accuracy: 0.9519 - auc: 0.9593 - val_loss: 0.1701 - val_accuracy: 0.9417 - val_auc: 0.9260\n",
      "Epoch 27/30\n",
      "5589/5589 [==============================] - ETA: 0s - loss: 0.1268 - accuracy: 0.9520 - auc: 0.9603\n",
      "Epoch 00027: val_accuracy did not improve from 0.94279\n",
      "5589/5589 [==============================] - 326s 58ms/step - loss: 0.1268 - accuracy: 0.9520 - auc: 0.9603 - val_loss: 0.1761 - val_accuracy: 0.9413 - val_auc: 0.9226\n",
      "Epoch 28/30\n",
      "5589/5589 [==============================] - ETA: 0s - loss: 0.1247 - accuracy: 0.9529 - auc: 0.9620\n",
      "Epoch 00028: val_accuracy did not improve from 0.94279\n",
      "5589/5589 [==============================] - 330s 59ms/step - loss: 0.1247 - accuracy: 0.9529 - auc: 0.9620 - val_loss: 0.1662 - val_accuracy: 0.9409 - val_auc: 0.9277\n",
      "Epoch 29/30\n",
      "5589/5589 [==============================] - ETA: 0s - loss: 0.1234 - accuracy: 0.9533 - auc: 0.9630\n",
      "Epoch 00029: val_accuracy did not improve from 0.94279\n",
      "5589/5589 [==============================] - 325s 58ms/step - loss: 0.1234 - accuracy: 0.9533 - auc: 0.9630 - val_loss: 0.1680 - val_accuracy: 0.9402 - val_auc: 0.9259\n",
      "Epoch 00029: early stopping\n"
     ]
    }
   ],
   "source": [
    "print('Training progress:')\n",
    "history = model.fit(x_train, y_train, epochs = 30, batch_size=32, validation_data=(x_val, y_val), verbose=1, callbacks=[es, mc])"
   ]
  },
  {
   "cell_type": "code",
   "execution_count": 46,
   "metadata": {},
   "outputs": [],
   "source": [
    "# load the saved model\n",
    "saved_model = load_model('best_LSTM_model.h5')"
   ]
  },
  {
   "cell_type": "markdown",
   "metadata": {},
   "source": [
    "## Evaluate the Model"
   ]
  },
  {
   "cell_type": "code",
   "execution_count": 47,
   "metadata": {},
   "outputs": [
    {
     "data": {
      "image/png": "[encoded data removed]",
      "text/plain": [
       "<Figure size 432x288 with 1 Axes>"
      ]
     },
     "metadata": {
      "needs_background": "light"
     },
     "output_type": "display_data"
    }
   ],
   "source": [
    "loss = history.history['loss']\n",
    "val_loss = history.history['val_loss']\n",
    "epochs = range(1, len(loss)+1)\n",
    "plt.plot(epochs, loss, label='Training loss')\n",
    "plt.plot(epochs, val_loss, label='Validation loss')\n",
    "plt.title('Training and validation loss')\n",
    "plt.xlabel('Epochs')\n",
    "plt.ylabel('Loss')\n",
    "plt.legend()\n",
    "plt.show();"
   ]
  },
  {
   "cell_type": "code",
   "execution_count": 48,
   "metadata": {
    "scrolled": true
   },
   "outputs": [
    {
     "data": {
      "image/png": "[encoded data removed]",
      "text/plain": [
       "<Figure size 432x288 with 1 Axes>"
      ]
     },
     "metadata": {
      "needs_background": "light"
     },
     "output_type": "display_data"
    }
   ],
   "source": [
    "accuracy = history.history['accuracy']\n",
    "val_accuracy = history.history['val_accuracy']\n",
    "plt.plot(epochs, accuracy, label='Training accuracy')\n",
    "plt.plot(epochs, val_accuracy, label='Validation accuracy')\n",
    "plt.title('Training and validation accuracy')\n",
    "plt.ylabel('Accuracy')\n",
    "plt.xlabel('Epochs')\n",
    "plt.legend()\n",
    "plt.show();"
   ]
  },
  {
   "cell_type": "code",
   "execution_count": 49,
   "metadata": {},
   "outputs": [
    {
     "data": {
      "image/png": "[encoded data removed]",
      "text/plain": [
       "<Figure size 432x288 with 1 Axes>"
      ]
     },
     "metadata": {
      "needs_background": "light"
     },
     "output_type": "display_data"
    }
   ],
   "source": [
    "plt.plot(history.history['loss'])\n",
    "plt.plot(history.history['val_loss'])\n",
    "plt.title('model AUC')\n",
    "plt.ylabel('AUC')\n",
    "plt.xlabel('epoch')\n",
    "plt.legend(['train', 'validation'], loc='upper left')\n",
    "plt.show()"
   ]
  },
  {
   "cell_type": "code",
   "execution_count": null,
   "metadata": {},
   "outputs": [],
   "source": []
  }
 ],
 "metadata": {
  "hide_input": false,
  "kernelspec": {
   "display_name": "Python [conda env:nf] *",
   "language": "python",
   "name": "conda-env-nf-py"
  },
  "language_info": {
   "codemirror_mode": {
    "name": "ipython",
    "version": 3
   },
   "file_extension": ".py",
   "mimetype": "text/x-python",
   "name": "python",
   "nbconvert_exporter": "python",
   "pygments_lexer": "ipython3",
   "version": "3.6.10"
  },
  "toc": {
   "base_numbering": 1,
   "nav_menu": {},
   "number_sections": true,
   "sideBar": true,
   "skip_h1_title": false,
   "title_cell": "Table of Contents",
   "title_sidebar": "Contents",
   "toc_cell": false,
   "toc_position": {},
   "toc_section_display": true,
   "toc_window_display": false
  }
 },
 "nbformat": 4,
 "nbformat_minor": 4
}
